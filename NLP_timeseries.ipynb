{
  "cells": [
    {
      "cell_type": "code",
      "execution_count": 1,
      "metadata": {
        "id": "CcXL1YKT1-_v"
      },
      "outputs": [],
      "source": [
        "import numpy as np\n",
        "import pandas as pd\n",
        "\n",
        "import matplotlib.pyplot as plt\n",
        "%matplotlib inline\n",
        "\n",
        "import pandas_datareader as pdr\n",
        "key=\"961705e28c14170672d45212990087314a455244\"\n"
      ]
    },
    {
      "cell_type": "code",
      "execution_count": 2,
      "metadata": {
        "colab": {
          "base_uri": "https://localhost:8080/",
          "height": 697
        },
        "id": "iV_5rLdB4zOM",
        "outputId": "7394e5e1-31a3-46ed-b2f0-ceebee34c6f2"
      },
      "outputs": [
        {
          "name": "stderr",
          "output_type": "stream",
          "text": [
            "/usr/local/lib/python3.7/dist-packages/pandas_datareader/tiingo.py:234: FutureWarning: In a future version of pandas all arguments of concat except for the argument 'objs' will be keyword-only\n",
            "  return pd.concat(dfs, self._concat_axis)\n"
          ]
        },
        {
          "data": {
            "text/html": [
              "\n",
              "  <div id=\"df-de052bae-ffb5-4c29-b45f-355f4fa83f31\">\n",
              "    <div class=\"colab-df-container\">\n",
              "      <div>\n",
              "<style scoped>\n",
              "    .dataframe tbody tr th:only-of-type {\n",
              "        vertical-align: middle;\n",
              "    }\n",
              "\n",
              "    .dataframe tbody tr th {\n",
              "        vertical-align: top;\n",
              "    }\n",
              "\n",
              "    .dataframe thead th {\n",
              "        text-align: right;\n",
              "    }\n",
              "</style>\n",
              "<table border=\"1\" class=\"dataframe\">\n",
              "  <thead>\n",
              "    <tr style=\"text-align: right;\">\n",
              "      <th></th>\n",
              "      <th>symbol</th>\n",
              "      <th>date</th>\n",
              "      <th>close</th>\n",
              "      <th>high</th>\n",
              "      <th>low</th>\n",
              "      <th>open</th>\n",
              "      <th>volume</th>\n",
              "      <th>adjClose</th>\n",
              "      <th>adjHigh</th>\n",
              "      <th>adjLow</th>\n",
              "      <th>adjOpen</th>\n",
              "      <th>adjVolume</th>\n",
              "      <th>divCash</th>\n",
              "      <th>splitFactor</th>\n",
              "    </tr>\n",
              "  </thead>\n",
              "  <tbody>\n",
              "    <tr>\n",
              "      <th>0</th>\n",
              "      <td>GOOG</td>\n",
              "      <td>2017-08-14 00:00:00+00:00</td>\n",
              "      <td>922.67</td>\n",
              "      <td>924.6680</td>\n",
              "      <td>918.1900</td>\n",
              "      <td>922.53</td>\n",
              "      <td>1047828</td>\n",
              "      <td>46.1335</td>\n",
              "      <td>46.233400</td>\n",
              "      <td>45.909500</td>\n",
              "      <td>46.1265</td>\n",
              "      <td>20956560</td>\n",
              "      <td>0.0</td>\n",
              "      <td>1.0</td>\n",
              "    </tr>\n",
              "    <tr>\n",
              "      <th>1</th>\n",
              "      <td>GOOG</td>\n",
              "      <td>2017-08-15 00:00:00+00:00</td>\n",
              "      <td>922.22</td>\n",
              "      <td>926.5499</td>\n",
              "      <td>919.8200</td>\n",
              "      <td>924.23</td>\n",
              "      <td>873070</td>\n",
              "      <td>46.1110</td>\n",
              "      <td>46.327495</td>\n",
              "      <td>45.991000</td>\n",
              "      <td>46.2115</td>\n",
              "      <td>17461400</td>\n",
              "      <td>0.0</td>\n",
              "      <td>1.0</td>\n",
              "    </tr>\n",
              "    <tr>\n",
              "      <th>2</th>\n",
              "      <td>GOOG</td>\n",
              "      <td>2017-08-16 00:00:00+00:00</td>\n",
              "      <td>926.96</td>\n",
              "      <td>932.7000</td>\n",
              "      <td>923.4450</td>\n",
              "      <td>925.29</td>\n",
              "      <td>988604</td>\n",
              "      <td>46.3480</td>\n",
              "      <td>46.635000</td>\n",
              "      <td>46.172250</td>\n",
              "      <td>46.2645</td>\n",
              "      <td>19772080</td>\n",
              "      <td>0.0</td>\n",
              "      <td>1.0</td>\n",
              "    </tr>\n",
              "    <tr>\n",
              "      <th>3</th>\n",
              "      <td>GOOG</td>\n",
              "      <td>2017-08-17 00:00:00+00:00</td>\n",
              "      <td>910.98</td>\n",
              "      <td>926.8600</td>\n",
              "      <td>910.9800</td>\n",
              "      <td>925.78</td>\n",
              "      <td>1218963</td>\n",
              "      <td>45.5490</td>\n",
              "      <td>46.343000</td>\n",
              "      <td>45.549000</td>\n",
              "      <td>46.2890</td>\n",
              "      <td>24379260</td>\n",
              "      <td>0.0</td>\n",
              "      <td>1.0</td>\n",
              "    </tr>\n",
              "    <tr>\n",
              "      <th>4</th>\n",
              "      <td>GOOG</td>\n",
              "      <td>2017-08-18 00:00:00+00:00</td>\n",
              "      <td>910.67</td>\n",
              "      <td>915.2750</td>\n",
              "      <td>907.1543</td>\n",
              "      <td>910.31</td>\n",
              "      <td>1333572</td>\n",
              "      <td>45.5335</td>\n",
              "      <td>45.763750</td>\n",
              "      <td>45.357715</td>\n",
              "      <td>45.5155</td>\n",
              "      <td>26671440</td>\n",
              "      <td>0.0</td>\n",
              "      <td>1.0</td>\n",
              "    </tr>\n",
              "    <tr>\n",
              "      <th>...</th>\n",
              "      <td>...</td>\n",
              "      <td>...</td>\n",
              "      <td>...</td>\n",
              "      <td>...</td>\n",
              "      <td>...</td>\n",
              "      <td>...</td>\n",
              "      <td>...</td>\n",
              "      <td>...</td>\n",
              "      <td>...</td>\n",
              "      <td>...</td>\n",
              "      <td>...</td>\n",
              "      <td>...</td>\n",
              "      <td>...</td>\n",
              "      <td>...</td>\n",
              "    </tr>\n",
              "    <tr>\n",
              "      <th>1254</th>\n",
              "      <td>GOOG</td>\n",
              "      <td>2022-08-08 00:00:00+00:00</td>\n",
              "      <td>118.14</td>\n",
              "      <td>120.8600</td>\n",
              "      <td>117.8300</td>\n",
              "      <td>119.12</td>\n",
              "      <td>17061112</td>\n",
              "      <td>118.1400</td>\n",
              "      <td>120.860000</td>\n",
              "      <td>117.830000</td>\n",
              "      <td>119.1200</td>\n",
              "      <td>17061112</td>\n",
              "      <td>0.0</td>\n",
              "      <td>1.0</td>\n",
              "    </tr>\n",
              "    <tr>\n",
              "      <th>1255</th>\n",
              "      <td>GOOG</td>\n",
              "      <td>2022-08-09 00:00:00+00:00</td>\n",
              "      <td>117.50</td>\n",
              "      <td>118.2000</td>\n",
              "      <td>116.5600</td>\n",
              "      <td>117.99</td>\n",
              "      <td>15424257</td>\n",
              "      <td>117.5000</td>\n",
              "      <td>118.200000</td>\n",
              "      <td>116.560000</td>\n",
              "      <td>117.9900</td>\n",
              "      <td>15424257</td>\n",
              "      <td>0.0</td>\n",
              "      <td>1.0</td>\n",
              "    </tr>\n",
              "    <tr>\n",
              "      <th>1256</th>\n",
              "      <td>GOOG</td>\n",
              "      <td>2022-08-10 00:00:00+00:00</td>\n",
              "      <td>120.65</td>\n",
              "      <td>121.7800</td>\n",
              "      <td>119.3600</td>\n",
              "      <td>119.59</td>\n",
              "      <td>20497021</td>\n",
              "      <td>120.6500</td>\n",
              "      <td>121.780000</td>\n",
              "      <td>119.360000</td>\n",
              "      <td>119.5900</td>\n",
              "      <td>20497021</td>\n",
              "      <td>0.0</td>\n",
              "      <td>1.0</td>\n",
              "    </tr>\n",
              "    <tr>\n",
              "      <th>1257</th>\n",
              "      <td>GOOG</td>\n",
              "      <td>2022-08-11 00:00:00+00:00</td>\n",
              "      <td>119.82</td>\n",
              "      <td>122.3402</td>\n",
              "      <td>119.5500</td>\n",
              "      <td>122.08</td>\n",
              "      <td>16671627</td>\n",
              "      <td>119.8200</td>\n",
              "      <td>122.340200</td>\n",
              "      <td>119.550000</td>\n",
              "      <td>122.0800</td>\n",
              "      <td>16671627</td>\n",
              "      <td>0.0</td>\n",
              "      <td>1.0</td>\n",
              "    </tr>\n",
              "    <tr>\n",
              "      <th>1258</th>\n",
              "      <td>GOOG</td>\n",
              "      <td>2022-08-12 00:00:00+00:00</td>\n",
              "      <td>122.65</td>\n",
              "      <td>122.6500</td>\n",
              "      <td>120.4001</td>\n",
              "      <td>121.16</td>\n",
              "      <td>16069398</td>\n",
              "      <td>122.6500</td>\n",
              "      <td>122.650000</td>\n",
              "      <td>120.400100</td>\n",
              "      <td>121.1600</td>\n",
              "      <td>16069398</td>\n",
              "      <td>0.0</td>\n",
              "      <td>1.0</td>\n",
              "    </tr>\n",
              "  </tbody>\n",
              "</table>\n",
              "<p>1259 rows × 14 columns</p>\n",
              "</div>\n",
              "      <button class=\"colab-df-convert\" onclick=\"convertToInteractive('df-de052bae-ffb5-4c29-b45f-355f4fa83f31')\"\n",
              "              title=\"Convert this dataframe to an interactive table.\"\n",
              "              style=\"display:none;\">\n",
              "        \n",
              "  <svg xmlns=\"http://www.w3.org/2000/svg\" height=\"24px\"viewBox=\"0 0 24 24\"\n",
              "       width=\"24px\">\n",
              "    <path d=\"M0 0h24v24H0V0z\" fill=\"none\"/>\n",
              "    <path d=\"M18.56 5.44l.94 2.06.94-2.06 2.06-.94-2.06-.94-.94-2.06-.94 2.06-2.06.94zm-11 1L8.5 8.5l.94-2.06 2.06-.94-2.06-.94L8.5 2.5l-.94 2.06-2.06.94zm10 10l.94 2.06.94-2.06 2.06-.94-2.06-.94-.94-2.06-.94 2.06-2.06.94z\"/><path d=\"M17.41 7.96l-1.37-1.37c-.4-.4-.92-.59-1.43-.59-.52 0-1.04.2-1.43.59L10.3 9.45l-7.72 7.72c-.78.78-.78 2.05 0 2.83L4 21.41c.39.39.9.59 1.41.59.51 0 1.02-.2 1.41-.59l7.78-7.78 2.81-2.81c.8-.78.8-2.07 0-2.86zM5.41 20L4 18.59l7.72-7.72 1.47 1.35L5.41 20z\"/>\n",
              "  </svg>\n",
              "      </button>\n",
              "      \n",
              "  <style>\n",
              "    .colab-df-container {\n",
              "      display:flex;\n",
              "      flex-wrap:wrap;\n",
              "      gap: 12px;\n",
              "    }\n",
              "\n",
              "    .colab-df-convert {\n",
              "      background-color: #E8F0FE;\n",
              "      border: none;\n",
              "      border-radius: 50%;\n",
              "      cursor: pointer;\n",
              "      display: none;\n",
              "      fill: #1967D2;\n",
              "      height: 32px;\n",
              "      padding: 0 0 0 0;\n",
              "      width: 32px;\n",
              "    }\n",
              "\n",
              "    .colab-df-convert:hover {\n",
              "      background-color: #E2EBFA;\n",
              "      box-shadow: 0px 1px 2px rgba(60, 64, 67, 0.3), 0px 1px 3px 1px rgba(60, 64, 67, 0.15);\n",
              "      fill: #174EA6;\n",
              "    }\n",
              "\n",
              "    [theme=dark] .colab-df-convert {\n",
              "      background-color: #3B4455;\n",
              "      fill: #D2E3FC;\n",
              "    }\n",
              "\n",
              "    [theme=dark] .colab-df-convert:hover {\n",
              "      background-color: #434B5C;\n",
              "      box-shadow: 0px 1px 3px 1px rgba(0, 0, 0, 0.15);\n",
              "      filter: drop-shadow(0px 1px 2px rgba(0, 0, 0, 0.3));\n",
              "      fill: #FFFFFF;\n",
              "    }\n",
              "  </style>\n",
              "\n",
              "      <script>\n",
              "        const buttonEl =\n",
              "          document.querySelector('#df-de052bae-ffb5-4c29-b45f-355f4fa83f31 button.colab-df-convert');\n",
              "        buttonEl.style.display =\n",
              "          google.colab.kernel.accessAllowed ? 'block' : 'none';\n",
              "\n",
              "        async function convertToInteractive(key) {\n",
              "          const element = document.querySelector('#df-de052bae-ffb5-4c29-b45f-355f4fa83f31');\n",
              "          const dataTable =\n",
              "            await google.colab.kernel.invokeFunction('convertToInteractive',\n",
              "                                                     [key], {});\n",
              "          if (!dataTable) return;\n",
              "\n",
              "          const docLinkHtml = 'Like what you see? Visit the ' +\n",
              "            '<a target=\"_blank\" href=https://colab.research.google.com/notebooks/data_table.ipynb>data table notebook</a>'\n",
              "            + ' to learn more about interactive tables.';\n",
              "          element.innerHTML = '';\n",
              "          dataTable['output_type'] = 'display_data';\n",
              "          await google.colab.output.renderOutput(dataTable, element);\n",
              "          const docLink = document.createElement('div');\n",
              "          docLink.innerHTML = docLinkHtml;\n",
              "          element.appendChild(docLink);\n",
              "        }\n",
              "      </script>\n",
              "    </div>\n",
              "  </div>\n",
              "  "
            ],
            "text/plain": [
              "     symbol                       date   close      high       low    open  \\\n",
              "0      GOOG  2017-08-14 00:00:00+00:00  922.67  924.6680  918.1900  922.53   \n",
              "1      GOOG  2017-08-15 00:00:00+00:00  922.22  926.5499  919.8200  924.23   \n",
              "2      GOOG  2017-08-16 00:00:00+00:00  926.96  932.7000  923.4450  925.29   \n",
              "3      GOOG  2017-08-17 00:00:00+00:00  910.98  926.8600  910.9800  925.78   \n",
              "4      GOOG  2017-08-18 00:00:00+00:00  910.67  915.2750  907.1543  910.31   \n",
              "...     ...                        ...     ...       ...       ...     ...   \n",
              "1254   GOOG  2022-08-08 00:00:00+00:00  118.14  120.8600  117.8300  119.12   \n",
              "1255   GOOG  2022-08-09 00:00:00+00:00  117.50  118.2000  116.5600  117.99   \n",
              "1256   GOOG  2022-08-10 00:00:00+00:00  120.65  121.7800  119.3600  119.59   \n",
              "1257   GOOG  2022-08-11 00:00:00+00:00  119.82  122.3402  119.5500  122.08   \n",
              "1258   GOOG  2022-08-12 00:00:00+00:00  122.65  122.6500  120.4001  121.16   \n",
              "\n",
              "        volume  adjClose     adjHigh      adjLow   adjOpen  adjVolume  \\\n",
              "0      1047828   46.1335   46.233400   45.909500   46.1265   20956560   \n",
              "1       873070   46.1110   46.327495   45.991000   46.2115   17461400   \n",
              "2       988604   46.3480   46.635000   46.172250   46.2645   19772080   \n",
              "3      1218963   45.5490   46.343000   45.549000   46.2890   24379260   \n",
              "4      1333572   45.5335   45.763750   45.357715   45.5155   26671440   \n",
              "...        ...       ...         ...         ...       ...        ...   \n",
              "1254  17061112  118.1400  120.860000  117.830000  119.1200   17061112   \n",
              "1255  15424257  117.5000  118.200000  116.560000  117.9900   15424257   \n",
              "1256  20497021  120.6500  121.780000  119.360000  119.5900   20497021   \n",
              "1257  16671627  119.8200  122.340200  119.550000  122.0800   16671627   \n",
              "1258  16069398  122.6500  122.650000  120.400100  121.1600   16069398   \n",
              "\n",
              "      divCash  splitFactor  \n",
              "0         0.0          1.0  \n",
              "1         0.0          1.0  \n",
              "2         0.0          1.0  \n",
              "3         0.0          1.0  \n",
              "4         0.0          1.0  \n",
              "...       ...          ...  \n",
              "1254      0.0          1.0  \n",
              "1255      0.0          1.0  \n",
              "1256      0.0          1.0  \n",
              "1257      0.0          1.0  \n",
              "1258      0.0          1.0  \n",
              "\n",
              "[1259 rows x 14 columns]"
            ]
          },
          "execution_count": 2,
          "metadata": {},
          "output_type": "execute_result"
        }
      ],
      "source": [
        "df = pdr.get_data_tiingo('GOOG', api_key=key)\n",
        "df.to_csv('Google.csv')\n",
        "df=pd.read_csv('Google.csv')"
      ]
    },
    {
      "cell_type": "code",
      "execution_count": 3,
      "metadata": {
        "colab": {
          "base_uri": "https://localhost:8080/"
        },
        "id": "O9E8B1fQ40xR",
        "outputId": "d29efa37-f6a5-4274-c1ad-c50d8c71fd3d"
      },
      "outputs": [
        {
          "data": {
            "text/plain": [
              "0       922.67\n",
              "1       922.22\n",
              "2       926.96\n",
              "3       910.98\n",
              "4       910.67\n",
              "         ...  \n",
              "1254    118.14\n",
              "1255    117.50\n",
              "1256    120.65\n",
              "1257    119.82\n",
              "1258    122.65\n",
              "Name: close, Length: 1259, dtype: float64"
            ]
          },
          "execution_count": 3,
          "metadata": {},
          "output_type": "execute_result"
        }
      ],
      "source": [
        "df1=df.reset_index()['close']\n",
        "df1"
      ]
    },
    {
      "cell_type": "code",
      "execution_count": 4,
      "metadata": {
        "colab": {
          "base_uri": "https://localhost:8080/",
          "height": 283
        },
        "id": "E5AxgGyP96_k",
        "outputId": "e6d41a5b-de0c-44cd-cbf5-2466ff9e8d6b"
      },
      "outputs": [
        {
          "data": {
            "text/plain": [
              "[<matplotlib.lines.Line2D at 0x7f9390a721d0>]"
            ]
          },
          "execution_count": 4,
          "metadata": {},
          "output_type": "execute_result"
        },
        {
          "data": {
            "image/png": "[encoded data removed]",
            "text/plain": [
              "<Figure size 432x288 with 1 Axes>"
            ]
          },
          "metadata": {
            "needs_background": "light"
          },
          "output_type": "display_data"
        }
      ],
      "source": [
        "import matplotlib.pyplot as plt\n",
        "plt.plot(df1)"
      ]
    },
    {
      "cell_type": "code",
      "execution_count": 5,
      "metadata": {
        "colab": {
          "base_uri": "https://localhost:8080/"
        },
        "id": "zneP6f7a99br",
        "outputId": "75e00cb1-ac05-4c85-d1a0-54ed030aab67"
      },
      "outputs": [
        {
          "name": "stdout",
          "output_type": "stream",
          "text": [
            "[[0.2809567 ]\n",
            " [0.280802  ]\n",
            " [0.28243157]\n",
            " ...\n",
            " [0.00522907]\n",
            " [0.00494372]\n",
            " [0.00591665]]\n"
          ]
        }
      ],
      "source": [
        "from sklearn.preprocessing import MinMaxScaler\n",
        "scaler=MinMaxScaler(feature_range=(0,1))\n",
        "df1=scaler.fit_transform(np.array(df1).reshape(-1,1))\n",
        "\n",
        "print(df1)\n"
      ]
    },
    {
      "cell_type": "code",
      "execution_count": 6,
      "metadata": {
        "id": "Uqn7pB5l-C6j"
      },
      "outputs": [],
      "source": [
        "training_size=int(len(df1)*0.65)\n",
        "test_size=len(df1)-training_size\n",
        "train_data,test_data=df1[0:training_size,:],df1[training_size:len(df1),:1]"
      ]
    },
    {
      "cell_type": "code",
      "execution_count": 7,
      "metadata": {
        "id": "WyHwIur3-FfZ"
      },
      "outputs": [],
      "source": [
        "import numpy\n",
        "# convert an array of values into a dataset matrix\n",
        "def create_dataset(dataset, time_step=1):\n",
        "\tdataX, dataY = [], []\n",
        "\tfor i in range(len(dataset)-time_step-1):\n",
        "\t\ta = dataset[i:(i+time_step), 0]   ###i=0, 0,1,2,3-----99   100 \n",
        "\t\tdataX.append(a)\n",
        "\t\tdataY.append(dataset[i + time_step, 0])\n",
        "\treturn numpy.array(dataX), numpy.array(dataY)"
      ]
    },
    {
      "cell_type": "code",
      "execution_count": 8,
      "metadata": {
        "id": "O_52yYCR-Ibi"
      },
      "outputs": [],
      "source": [
        "# reshape into X=t,t+1,t+2,t+3 and Y=t+4\n",
        "time_step = 100\n",
        "X_train, y_train = create_dataset(train_data, time_step)\n",
        "X_test, ytest = create_dataset(test_data, time_step)"
      ]
    },
    {
      "cell_type": "code",
      "execution_count": 9,
      "metadata": {
        "colab": {
          "base_uri": "https://localhost:8080/"
        },
        "id": "gbjoL5Qr-KQE",
        "outputId": "72f0a005-e4e0-4f6b-96af-d2e3ab57c277"
      },
      "outputs": [
        {
          "name": "stdout",
          "output_type": "stream",
          "text": [
            "(717, 100)\n",
            "(717,)\n"
          ]
        },
        {
          "data": {
            "text/plain": [
              "(None, None)"
            ]
          },
          "execution_count": 9,
          "metadata": {},
          "output_type": "execute_result"
        }
      ],
      "source": [
        "print(X_train.shape), print(y_train.shape)"
      ]
    },
    {
      "cell_type": "code",
      "execution_count": 10,
      "metadata": {
        "colab": {
          "base_uri": "https://localhost:8080/"
        },
        "id": "Tiu4kBrL-LdN",
        "outputId": "ab75fcf9-576e-4457-e73e-5b5034fa4969"
      },
      "outputs": [
        {
          "name": "stdout",
          "output_type": "stream",
          "text": [
            "(340, 100)\n",
            "(340,)\n"
          ]
        },
        {
          "data": {
            "text/plain": [
              "(None, None)"
            ]
          },
          "execution_count": 10,
          "metadata": {},
          "output_type": "execute_result"
        }
      ],
      "source": [
        "print(X_test.shape), print(ytest.shape)"
      ]
    },
    {
      "cell_type": "code",
      "execution_count": 11,
      "metadata": {
        "id": "oD0phMs7-O0M"
      },
      "outputs": [],
      "source": [
        "X_train =X_train.reshape(X_train.shape[0],X_train.shape[1] , 1)\n",
        "X_test = X_test.reshape(X_test.shape[0],X_test.shape[1] , 1)"
      ]
    },
    {
      "cell_type": "code",
      "execution_count": 12,
      "metadata": {
        "colab": {
          "base_uri": "https://localhost:8080/"
        },
        "id": "cY4LUTO8-RJx",
        "outputId": "2b286bc8-2222-4705-aa39-496d6971404c"
      },
      "outputs": [
        {
          "name": "stdout",
          "output_type": "stream",
          "text": [
            "Model: \"sequential\"\n",
            "_________________________________________________________________\n",
            " Layer (type)                Output Shape              Param #   \n",
            "=================================================================\n",
            " lstm (LSTM)                 (None, 100, 50)           10400     \n",
            "                                                                 \n",
            " lstm_1 (LSTM)               (None, 100, 50)           20200     \n",
            "                                                                 \n",
            " lstm_2 (LSTM)               (None, 50)                20200     \n",
            "                                                                 \n",
            " dense (Dense)               (None, 1)                 51        \n",
            "                                                                 \n",
            "=================================================================\n",
            "Total params: 50,851\n",
            "Trainable params: 50,851\n",
            "Non-trainable params: 0\n",
            "_________________________________________________________________\n"
          ]
        }
      ],
      "source": [
        "from tensorflow.keras.models import Sequential\n",
        "from tensorflow.keras.layers import Dense\n",
        "from tensorflow.keras.layers import LSTM\n",
        "\n",
        "model=Sequential()\n",
        "model.add(LSTM(50,return_sequences=True,input_shape=(100,1)))\n",
        "model.add(LSTM(50,return_sequences=True))\n",
        "model.add(LSTM(50))\n",
        "model.add(Dense(1))\n",
        "model.compile(loss='mean_squared_error',optimizer='adam')\n",
        "model.summary()"
      ]
    },
    {
      "cell_type": "code",
      "execution_count": 13,
      "metadata": {
        "colab": {
          "base_uri": "https://localhost:8080/"
        },
        "id": "AzrshiqX-WIJ",
        "outputId": "c7b0feee-bb91-4619-9495-15e3dd5c3582"
      },
      "outputs": [
        {
          "name": "stdout",
          "output_type": "stream",
          "text": [
            "Epoch 1/100\n",
            "12/12 [==============================] - 26s 728ms/step - loss: 0.0386 - val_loss: 0.0988\n",
            "Epoch 2/100\n",
            "12/12 [==============================] - 5s 383ms/step - loss: 0.0048 - val_loss: 0.0403\n",
            "Epoch 3/100\n",
            "12/12 [==============================] - 2s 180ms/step - loss: 0.0019 - val_loss: 0.0792\n",
            "Epoch 4/100\n",
            "12/12 [==============================] - 2s 178ms/step - loss: 0.0012 - val_loss: 0.0622\n",
            "Epoch 5/100\n",
            "12/12 [==============================] - 2s 177ms/step - loss: 0.0010 - val_loss: 0.0559\n",
            "Epoch 6/100\n",
            "12/12 [==============================] - 2s 177ms/step - loss: 9.2498e-04 - val_loss: 0.0551\n",
            "Epoch 7/100\n",
            "12/12 [==============================] - 2s 180ms/step - loss: 8.5459e-04 - val_loss: 0.0478\n",
            "Epoch 8/100\n",
            "12/12 [==============================] - 4s 340ms/step - loss: 7.9892e-04 - val_loss: 0.0473\n",
            "Epoch 9/100\n",
            "12/12 [==============================] - 4s 315ms/step - loss: 7.5270e-04 - val_loss: 0.0384\n",
            "Epoch 10/100\n",
            "12/12 [==============================] - 4s 318ms/step - loss: 6.9031e-04 - val_loss: 0.0330\n",
            "Epoch 11/100\n",
            "12/12 [==============================] - 3s 292ms/step - loss: 6.4564e-04 - val_loss: 0.0277\n",
            "Epoch 12/100\n",
            "12/12 [==============================] - 3s 232ms/step - loss: 5.9779e-04 - val_loss: 0.0243\n",
            "Epoch 13/100\n",
            "12/12 [==============================] - 3s 221ms/step - loss: 5.5409e-04 - val_loss: 0.0215\n",
            "Epoch 14/100\n",
            "12/12 [==============================] - 3s 240ms/step - loss: 5.2004e-04 - val_loss: 0.0184\n",
            "Epoch 15/100\n",
            "12/12 [==============================] - 3s 242ms/step - loss: 5.0245e-04 - val_loss: 0.0168\n",
            "Epoch 16/100\n",
            "12/12 [==============================] - 3s 237ms/step - loss: 4.8750e-04 - val_loss: 0.0157\n",
            "Epoch 17/100\n",
            "12/12 [==============================] - 2s 182ms/step - loss: 4.9352e-04 - val_loss: 0.0154\n",
            "Epoch 18/100\n",
            "12/12 [==============================] - 2s 178ms/step - loss: 4.5313e-04 - val_loss: 0.0151\n",
            "Epoch 19/100\n",
            "12/12 [==============================] - 2s 179ms/step - loss: 4.4784e-04 - val_loss: 0.0148\n",
            "Epoch 20/100\n",
            "12/12 [==============================] - 2s 180ms/step - loss: 4.5562e-04 - val_loss: 0.0153\n",
            "Epoch 21/100\n",
            "12/12 [==============================] - 2s 179ms/step - loss: 4.7795e-04 - val_loss: 0.0143\n",
            "Epoch 22/100\n",
            "12/12 [==============================] - 2s 181ms/step - loss: 4.8323e-04 - val_loss: 0.0154\n",
            "Epoch 23/100\n",
            "12/12 [==============================] - 2s 179ms/step - loss: 5.0738e-04 - val_loss: 0.0139\n",
            "Epoch 24/100\n",
            "12/12 [==============================] - 2s 180ms/step - loss: 4.9008e-04 - val_loss: 0.0145\n",
            "Epoch 25/100\n",
            "12/12 [==============================] - 2s 179ms/step - loss: 4.4781e-04 - val_loss: 0.0137\n",
            "Epoch 26/100\n",
            "12/12 [==============================] - 2s 180ms/step - loss: 4.3256e-04 - val_loss: 0.0134\n",
            "Epoch 27/100\n",
            "12/12 [==============================] - 2s 181ms/step - loss: 4.1436e-04 - val_loss: 0.0142\n",
            "Epoch 28/100\n",
            "12/12 [==============================] - 3s 242ms/step - loss: 4.0591e-04 - val_loss: 0.0131\n",
            "Epoch 29/100\n",
            "12/12 [==============================] - 2s 190ms/step - loss: 3.8972e-04 - val_loss: 0.0126\n",
            "Epoch 30/100\n",
            "12/12 [==============================] - 2s 181ms/step - loss: 4.0718e-04 - val_loss: 0.0151\n",
            "Epoch 31/100\n",
            "12/12 [==============================] - 2s 181ms/step - loss: 4.4559e-04 - val_loss: 0.0121\n",
            "Epoch 32/100\n",
            "12/12 [==============================] - 2s 178ms/step - loss: 4.1857e-04 - val_loss: 0.0135\n",
            "Epoch 33/100\n",
            "12/12 [==============================] - 2s 178ms/step - loss: 4.0218e-04 - val_loss: 0.0119\n",
            "Epoch 34/100\n",
            "12/12 [==============================] - 2s 181ms/step - loss: 4.5285e-04 - val_loss: 0.0119\n",
            "Epoch 35/100\n",
            "12/12 [==============================] - 2s 180ms/step - loss: 3.8112e-04 - val_loss: 0.0124\n",
            "Epoch 36/100\n",
            "12/12 [==============================] - 2s 182ms/step - loss: 4.1060e-04 - val_loss: 0.0113\n",
            "Epoch 37/100\n",
            "12/12 [==============================] - 2s 181ms/step - loss: 3.5887e-04 - val_loss: 0.0111\n",
            "Epoch 38/100\n",
            "12/12 [==============================] - 2s 181ms/step - loss: 3.4329e-04 - val_loss: 0.0106\n",
            "Epoch 39/100\n",
            "12/12 [==============================] - 2s 179ms/step - loss: 3.5076e-04 - val_loss: 0.0107\n",
            "Epoch 40/100\n",
            "12/12 [==============================] - 3s 223ms/step - loss: 3.2687e-04 - val_loss: 0.0121\n",
            "Epoch 41/100\n",
            "12/12 [==============================] - 2s 179ms/step - loss: 3.5488e-04 - val_loss: 0.0113\n",
            "Epoch 42/100\n",
            "12/12 [==============================] - 2s 181ms/step - loss: 3.3167e-04 - val_loss: 0.0098\n",
            "Epoch 43/100\n",
            "12/12 [==============================] - 3s 285ms/step - loss: 3.1849e-04 - val_loss: 0.0100\n",
            "Epoch 44/100\n",
            "12/12 [==============================] - 2s 182ms/step - loss: 2.9802e-04 - val_loss: 0.0097\n",
            "Epoch 45/100\n",
            "12/12 [==============================] - 2s 181ms/step - loss: 3.3571e-04 - val_loss: 0.0103\n",
            "Epoch 46/100\n",
            "12/12 [==============================] - 2s 179ms/step - loss: 3.0749e-04 - val_loss: 0.0101\n",
            "Epoch 47/100\n",
            "12/12 [==============================] - 2s 180ms/step - loss: 3.0701e-04 - val_loss: 0.0091\n",
            "Epoch 48/100\n",
            "12/12 [==============================] - 2s 182ms/step - loss: 3.0904e-04 - val_loss: 0.0087\n",
            "Epoch 49/100\n",
            "12/12 [==============================] - 2s 182ms/step - loss: 3.1855e-04 - val_loss: 0.0087\n",
            "Epoch 50/100\n",
            "12/12 [==============================] - 2s 178ms/step - loss: 2.9336e-04 - val_loss: 0.0094\n",
            "Epoch 51/100\n",
            "12/12 [==============================] - 2s 180ms/step - loss: 2.7294e-04 - val_loss: 0.0089\n",
            "Epoch 52/100\n",
            "12/12 [==============================] - 2s 181ms/step - loss: 2.6198e-04 - val_loss: 0.0084\n",
            "Epoch 53/100\n",
            "12/12 [==============================] - 2s 182ms/step - loss: 2.6274e-04 - val_loss: 0.0086\n",
            "Epoch 54/100\n",
            "12/12 [==============================] - 2s 182ms/step - loss: 2.6130e-04 - val_loss: 0.0079\n",
            "Epoch 55/100\n",
            "12/12 [==============================] - 2s 182ms/step - loss: 2.8128e-04 - val_loss: 0.0078\n",
            "Epoch 56/100\n",
            "12/12 [==============================] - 2s 181ms/step - loss: 2.9543e-04 - val_loss: 0.0090\n",
            "Epoch 57/100\n",
            "12/12 [==============================] - 2s 180ms/step - loss: 2.7019e-04 - val_loss: 0.0083\n",
            "Epoch 58/100\n",
            "12/12 [==============================] - 2s 180ms/step - loss: 2.5351e-04 - val_loss: 0.0080\n",
            "Epoch 59/100\n",
            "12/12 [==============================] - 2s 181ms/step - loss: 2.4778e-04 - val_loss: 0.0081\n",
            "Epoch 60/100\n",
            "12/12 [==============================] - 2s 180ms/step - loss: 2.5680e-04 - val_loss: 0.0083\n",
            "Epoch 61/100\n",
            "12/12 [==============================] - 2s 181ms/step - loss: 2.5640e-04 - val_loss: 0.0073\n",
            "Epoch 62/100\n",
            "12/12 [==============================] - 2s 182ms/step - loss: 2.3564e-04 - val_loss: 0.0073\n",
            "Epoch 63/100\n",
            "12/12 [==============================] - 2s 181ms/step - loss: 2.3291e-04 - val_loss: 0.0072\n",
            "Epoch 64/100\n",
            "12/12 [==============================] - 2s 180ms/step - loss: 2.7961e-04 - val_loss: 0.0071\n",
            "Epoch 65/100\n",
            "12/12 [==============================] - 3s 260ms/step - loss: 2.2930e-04 - val_loss: 0.0070\n",
            "Epoch 66/100\n",
            "12/12 [==============================] - 2s 182ms/step - loss: 2.5525e-04 - val_loss: 0.0071\n",
            "Epoch 67/100\n",
            "12/12 [==============================] - 2s 181ms/step - loss: 2.5733e-04 - val_loss: 0.0069\n",
            "Epoch 68/100\n",
            "12/12 [==============================] - 2s 181ms/step - loss: 2.3471e-04 - val_loss: 0.0072\n",
            "Epoch 69/100\n",
            "12/12 [==============================] - 2s 179ms/step - loss: 2.1862e-04 - val_loss: 0.0068\n",
            "Epoch 70/100\n",
            "12/12 [==============================] - 2s 180ms/step - loss: 2.5094e-04 - val_loss: 0.0072\n",
            "Epoch 71/100\n",
            "12/12 [==============================] - 2s 180ms/step - loss: 2.6344e-04 - val_loss: 0.0069\n",
            "Epoch 72/100\n",
            "12/12 [==============================] - 2s 182ms/step - loss: 2.4890e-04 - val_loss: 0.0077\n",
            "Epoch 73/100\n",
            "12/12 [==============================] - 2s 180ms/step - loss: 3.2616e-04 - val_loss: 0.0067\n",
            "Epoch 74/100\n",
            "12/12 [==============================] - 2s 180ms/step - loss: 2.4497e-04 - val_loss: 0.0067\n",
            "Epoch 75/100\n",
            "12/12 [==============================] - 2s 179ms/step - loss: 2.0598e-04 - val_loss: 0.0065\n",
            "Epoch 76/100\n",
            "12/12 [==============================] - 2s 180ms/step - loss: 2.3034e-04 - val_loss: 0.0076\n",
            "Epoch 77/100\n",
            "12/12 [==============================] - 2s 183ms/step - loss: 2.3836e-04 - val_loss: 0.0066\n",
            "Epoch 78/100\n",
            "12/12 [==============================] - 2s 182ms/step - loss: 2.2326e-04 - val_loss: 0.0084\n",
            "Epoch 79/100\n",
            "12/12 [==============================] - 2s 181ms/step - loss: 2.7364e-04 - val_loss: 0.0064\n",
            "Epoch 80/100\n",
            "12/12 [==============================] - 2s 183ms/step - loss: 2.1115e-04 - val_loss: 0.0062\n",
            "Epoch 81/100\n",
            "12/12 [==============================] - 2s 182ms/step - loss: 2.3646e-04 - val_loss: 0.0064\n",
            "Epoch 82/100\n",
            "12/12 [==============================] - 2s 183ms/step - loss: 2.8631e-04 - val_loss: 0.0061\n",
            "Epoch 83/100\n",
            "12/12 [==============================] - 2s 180ms/step - loss: 2.1311e-04 - val_loss: 0.0060\n",
            "Epoch 84/100\n",
            "12/12 [==============================] - 2s 181ms/step - loss: 2.2399e-04 - val_loss: 0.0060\n",
            "Epoch 85/100\n",
            "12/12 [==============================] - 2s 181ms/step - loss: 2.1042e-04 - val_loss: 0.0060\n",
            "Epoch 86/100\n",
            "12/12 [==============================] - 2s 183ms/step - loss: 2.5309e-04 - val_loss: 0.0059\n",
            "Epoch 87/100\n",
            "12/12 [==============================] - 2s 180ms/step - loss: 2.3953e-04 - val_loss: 0.0060\n",
            "Epoch 88/100\n",
            "12/12 [==============================] - 3s 222ms/step - loss: 2.4335e-04 - val_loss: 0.0059\n",
            "Epoch 89/100\n",
            "12/12 [==============================] - 2s 182ms/step - loss: 2.0986e-04 - val_loss: 0.0059\n",
            "Epoch 90/100\n",
            "12/12 [==============================] - 2s 186ms/step - loss: 2.1408e-04 - val_loss: 0.0059\n",
            "Epoch 91/100\n",
            "12/12 [==============================] - 2s 181ms/step - loss: 1.8615e-04 - val_loss: 0.0065\n",
            "Epoch 92/100\n",
            "12/12 [==============================] - 2s 181ms/step - loss: 1.9040e-04 - val_loss: 0.0064\n",
            "Epoch 93/100\n",
            "12/12 [==============================] - 2s 181ms/step - loss: 2.0537e-04 - val_loss: 0.0067\n",
            "Epoch 94/100\n",
            "12/12 [==============================] - 2s 181ms/step - loss: 2.0883e-04 - val_loss: 0.0057\n",
            "Epoch 95/100\n",
            "12/12 [==============================] - 2s 180ms/step - loss: 1.8343e-04 - val_loss: 0.0056\n",
            "Epoch 96/100\n",
            "12/12 [==============================] - 2s 183ms/step - loss: 1.9121e-04 - val_loss: 0.0056\n",
            "Epoch 97/100\n",
            "12/12 [==============================] - 2s 181ms/step - loss: 1.9353e-04 - val_loss: 0.0054\n",
            "Epoch 98/100\n",
            "12/12 [==============================] - 2s 181ms/step - loss: 2.1301e-04 - val_loss: 0.0059\n",
            "Epoch 99/100\n",
            "12/12 [==============================] - 2s 181ms/step - loss: 1.8390e-04 - val_loss: 0.0064\n",
            "Epoch 100/100\n",
            "12/12 [==============================] - 2s 183ms/step - loss: 1.8174e-04 - val_loss: 0.0058\n"
          ]
        },
        {
          "data": {
            "text/plain": [
              "<keras.callbacks.History at 0x7f9324c6bd90>"
            ]
          },
          "execution_count": 13,
          "metadata": {},
          "output_type": "execute_result"
        }
      ],
      "source": [
        "model.fit(X_train,y_train,validation_data=(X_test,ytest),epochs=100,batch_size=64,verbose=1)\n"
      ]
    },
    {
      "cell_type": "code",
      "execution_count": 14,
      "metadata": {
        "id": "HssvmBr_-eU1"
      },
      "outputs": [],
      "source": [
        "### Lets Do the prediction and check performance metrics\n",
        "train_predict=model.predict(X_train)\n",
        "test_predict=model.predict(X_test)"
      ]
    },
    {
      "cell_type": "code",
      "execution_count": 15,
      "metadata": {
        "id": "ViU4BU5--jEw"
      },
      "outputs": [],
      "source": [
        "##Transformback to original form\n",
        "train_predict=scaler.inverse_transform(train_predict)\n",
        "test_predict=scaler.inverse_transform(test_predict)"
      ]
    },
    {
      "cell_type": "code",
      "execution_count": 16,
      "metadata": {
        "colab": {
          "base_uri": "https://localhost:8080/"
        },
        "id": "6HPw3lSI-k3A",
        "outputId": "e0c71dce-fb09-4c9f-e09f-c53d6cd8023b"
      },
      "outputs": [
        {
          "data": {
            "text/plain": [
              "1255.1133321847146"
            ]
          },
          "execution_count": 16,
          "metadata": {},
          "output_type": "execute_result"
        }
      ],
      "source": [
        "import math\n",
        "from sklearn.metrics import mean_squared_error\n",
        "math.sqrt(mean_squared_error(y_train,train_predict))"
      ]
    },
    {
      "cell_type": "code",
      "execution_count": 17,
      "metadata": {
        "colab": {
          "base_uri": "https://localhost:8080/"
        },
        "id": "KdqSFVGl-nij",
        "outputId": "aead88c1-1d4d-4d98-bd5a-80c50f4a8cde"
      },
      "outputs": [
        {
          "data": {
            "text/plain": [
              "2617.584512379302"
            ]
          },
          "execution_count": 17,
          "metadata": {},
          "output_type": "execute_result"
        }
      ],
      "source": [
        "math.sqrt(mean_squared_error(ytest,test_predict))"
      ]
    },
    {
      "cell_type": "code",
      "execution_count": 18,
      "metadata": {
        "colab": {
          "base_uri": "https://localhost:8080/",
          "height": 265
        },
        "id": "FwRAV20L-tPI",
        "outputId": "aac7d134-2cca-48ed-94ce-89c5de9bdd40"
      },
      "outputs": [
        {
          "data": {
            "image/png": "[encoded data removed]",
            "text/plain": [
              "<Figure size 432x288 with 1 Axes>"
            ]
          },
          "metadata": {
            "needs_background": "light"
          },
          "output_type": "display_data"
        }
      ],
      "source": [
        "### Plotting \n",
        "# shift train predictions for plotting\n",
        "look_back=100\n",
        "trainPredictPlot = numpy.empty_like(df1)\n",
        "trainPredictPlot[:, :] = np.nan\n",
        "trainPredictPlot[look_back:len(train_predict)+look_back, :] = train_predict\n",
        "# shift test predictions for plotting\n",
        "testPredictPlot = numpy.empty_like(df1)\n",
        "testPredictPlot[:, :] = numpy.nan\n",
        "testPredictPlot[len(train_predict)+(look_back*2)+1:len(df1)-1, :] = test_predict\n",
        "# plot baseline and predictions\n",
        "plt.plot(scaler.inverse_transform(df1))\n",
        "plt.plot(trainPredictPlot)\n",
        "plt.plot(testPredictPlot)\n",
        "plt.show()"
      ]
    },
    {
      "cell_type": "code",
      "execution_count": 19,
      "metadata": {
        "colab": {
          "base_uri": "https://localhost:8080/"
        },
        "id": "ciHcZ8NLCQsK",
        "outputId": "34c47c07-d5df-40cc-f7cd-b8c8339fa868"
      },
      "outputs": [
        {
          "data": {
            "text/plain": [
              "441"
            ]
          },
          "execution_count": 19,
          "metadata": {},
          "output_type": "execute_result"
        }
      ],
      "source": [
        "len(test_data)\n"
      ]
    },
    {
      "cell_type": "code",
      "execution_count": 20,
      "metadata": {
        "colab": {
          "base_uri": "https://localhost:8080/"
        },
        "id": "jJROD-U6-vUM",
        "outputId": "7c1b4c99-d34d-4161-d689-52d8029fff70"
      },
      "outputs": [
        {
          "name": "stdout",
          "output_type": "stream",
          "text": [
            "0 day input [0.92827479 0.91607706 0.93538783 0.93682832 0.93977461 0.94871319\n",
            " 0.94454987 0.92395676 0.93117982 0.95141195 0.93367575 0.9069494\n",
            " 0.90206069 0.88518396 0.85620922 0.84643179 0.85957494 0.83872055\n",
            " 0.84358863 0.86125951 0.84554481 0.82279956 0.78619608 0.8111966\n",
            " 0.7854535  0.75461196 0.78480373 0.75424067 0.76930217 0.77598892\n",
            " 0.80655542 0.76647964 0.75900906 0.74129692 0.7516141  0.74732702\n",
            " 0.74182636 0.76489133 0.75304427 0.76617023 0.73660073 0.72521779\n",
            " 0.71536817 0.73155043 0.69207973 0.69148497 0.70837545 0.73933731\n",
            " 0.74786334 0.74853717 0.77335204 0.75147315 0.76829486 0.76980067\n",
            " 0.76985911 0.75390719 0.72990711 0.69861521 0.70079828 0.72277687\n",
            " 0.69696157 0.7054154  0.73394666 0.7340773  0.73855003 0.77879769\n",
            " 0.76562704 0.73777306 0.73560717 0.71577728 0.71377297 0.74681821\n",
            " 0.755939   0.78407833 0.79000873 0.76493946 0.7534362  0.7351293\n",
            " 0.72999306 0.73911728 0.00153675 0.00315601 0.00318351 0.0033004\n",
            " 0.00100387 0.0009523  0.         0.00280534 0.00314569 0.00385046\n",
            " 0.00345167 0.00359606 0.00458618 0.00461712 0.00439365 0.00436615\n",
            " 0.00414613 0.00522907 0.00494372 0.00591665]\n",
            "0 day output [[0.07555108]]\n",
            "1 day input [0.91607706 0.93538783 0.93682832 0.93977461 0.94871319 0.94454987\n",
            " 0.92395676 0.93117982 0.95141195 0.93367575 0.9069494  0.90206069\n",
            " 0.88518396 0.85620922 0.84643179 0.85957494 0.83872055 0.84358863\n",
            " 0.86125951 0.84554481 0.82279956 0.78619608 0.8111966  0.7854535\n",
            " 0.75461196 0.78480373 0.75424067 0.76930217 0.77598892 0.80655542\n",
            " 0.76647964 0.75900906 0.74129692 0.7516141  0.74732702 0.74182636\n",
            " 0.76489133 0.75304427 0.76617023 0.73660073 0.72521779 0.71536817\n",
            " 0.73155043 0.69207973 0.69148497 0.70837545 0.73933731 0.74786334\n",
            " 0.74853717 0.77335204 0.75147315 0.76829486 0.76980067 0.76985911\n",
            " 0.75390719 0.72990711 0.69861521 0.70079828 0.72277687 0.69696157\n",
            " 0.7054154  0.73394666 0.7340773  0.73855003 0.77879769 0.76562704\n",
            " 0.73777306 0.73560717 0.71577728 0.71377297 0.74681821 0.755939\n",
            " 0.78407833 0.79000873 0.76493946 0.7534362  0.7351293  0.72999306\n",
            " 0.73911728 0.00153675 0.00315601 0.00318351 0.0033004  0.00100387\n",
            " 0.0009523  0.         0.00280534 0.00314569 0.00385046 0.00345167\n",
            " 0.00359606 0.00458618 0.00461712 0.00439365 0.00436615 0.00414613\n",
            " 0.00522907 0.00494372 0.00591665 0.07555108]\n",
            "1 day output [[0.07473169]]\n",
            "2 day input [0.93538783 0.93682832 0.93977461 0.94871319 0.94454987 0.92395676\n",
            " 0.93117982 0.95141195 0.93367575 0.9069494  0.90206069 0.88518396\n",
            " 0.85620922 0.84643179 0.85957494 0.83872055 0.84358863 0.86125951\n",
            " 0.84554481 0.82279956 0.78619608 0.8111966  0.7854535  0.75461196\n",
            " 0.78480373 0.75424067 0.76930217 0.77598892 0.80655542 0.76647964\n",
            " 0.75900906 0.74129692 0.7516141  0.74732702 0.74182636 0.76489133\n",
            " 0.75304427 0.76617023 0.73660073 0.72521779 0.71536817 0.73155043\n",
            " 0.69207973 0.69148497 0.70837545 0.73933731 0.74786334 0.74853717\n",
            " 0.77335204 0.75147315 0.76829486 0.76980067 0.76985911 0.75390719\n",
            " 0.72990711 0.69861521 0.70079828 0.72277687 0.69696157 0.7054154\n",
            " 0.73394666 0.7340773  0.73855003 0.77879769 0.76562704 0.73777306\n",
            " 0.73560717 0.71577728 0.71377297 0.74681821 0.755939   0.78407833\n",
            " 0.79000873 0.76493946 0.7534362  0.7351293  0.72999306 0.73911728\n",
            " 0.00153675 0.00315601 0.00318351 0.0033004  0.00100387 0.0009523\n",
            " 0.         0.00280534 0.00314569 0.00385046 0.00345167 0.00359606\n",
            " 0.00458618 0.00461712 0.00439365 0.00436615 0.00414613 0.00522907\n",
            " 0.00494372 0.00591665 0.07555108 0.07473169]\n",
            "2 day output [[0.07554004]]\n",
            "3 day input [0.93682832 0.93977461 0.94871319 0.94454987 0.92395676 0.93117982\n",
            " 0.95141195 0.93367575 0.9069494  0.90206069 0.88518396 0.85620922\n",
            " 0.84643179 0.85957494 0.83872055 0.84358863 0.86125951 0.84554481\n",
            " 0.82279956 0.78619608 0.8111966  0.7854535  0.75461196 0.78480373\n",
            " 0.75424067 0.76930217 0.77598892 0.80655542 0.76647964 0.75900906\n",
            " 0.74129692 0.7516141  0.74732702 0.74182636 0.76489133 0.75304427\n",
            " 0.76617023 0.73660073 0.72521779 0.71536817 0.73155043 0.69207973\n",
            " 0.69148497 0.70837545 0.73933731 0.74786334 0.74853717 0.77335204\n",
            " 0.75147315 0.76829486 0.76980067 0.76985911 0.75390719 0.72990711\n",
            " 0.69861521 0.70079828 0.72277687 0.69696157 0.7054154  0.73394666\n",
            " 0.7340773  0.73855003 0.77879769 0.76562704 0.73777306 0.73560717\n",
            " 0.71577728 0.71377297 0.74681821 0.755939   0.78407833 0.79000873\n",
            " 0.76493946 0.7534362  0.7351293  0.72999306 0.73911728 0.00153675\n",
            " 0.00315601 0.00318351 0.0033004  0.00100387 0.0009523  0.\n",
            " 0.00280534 0.00314569 0.00385046 0.00345167 0.00359606 0.00458618\n",
            " 0.00461712 0.00439365 0.00436615 0.00414613 0.00522907 0.00494372\n",
            " 0.00591665 0.07555108 0.07473169 0.07554004]\n",
            "3 day output [[0.07786273]]\n",
            "4 day input [0.93977461 0.94871319 0.94454987 0.92395676 0.93117982 0.95141195\n",
            " 0.93367575 0.9069494  0.90206069 0.88518396 0.85620922 0.84643179\n",
            " 0.85957494 0.83872055 0.84358863 0.86125951 0.84554481 0.82279956\n",
            " 0.78619608 0.8111966  0.7854535  0.75461196 0.78480373 0.75424067\n",
            " 0.76930217 0.77598892 0.80655542 0.76647964 0.75900906 0.74129692\n",
            " 0.7516141  0.74732702 0.74182636 0.76489133 0.75304427 0.76617023\n",
            " 0.73660073 0.72521779 0.71536817 0.73155043 0.69207973 0.69148497\n",
            " 0.70837545 0.73933731 0.74786334 0.74853717 0.77335204 0.75147315\n",
            " 0.76829486 0.76980067 0.76985911 0.75390719 0.72990711 0.69861521\n",
            " 0.70079828 0.72277687 0.69696157 0.7054154  0.73394666 0.7340773\n",
            " 0.73855003 0.77879769 0.76562704 0.73777306 0.73560717 0.71577728\n",
            " 0.71377297 0.74681821 0.755939   0.78407833 0.79000873 0.76493946\n",
            " 0.7534362  0.7351293  0.72999306 0.73911728 0.00153675 0.00315601\n",
            " 0.00318351 0.0033004  0.00100387 0.0009523  0.         0.00280534\n",
            " 0.00314569 0.00385046 0.00345167 0.00359606 0.00458618 0.00461712\n",
            " 0.00439365 0.00436615 0.00414613 0.00522907 0.00494372 0.00591665\n",
            " 0.07555108 0.07473169 0.07554004 0.07786273]\n",
            "4 day output [[0.08129425]]\n",
            "5 day input [0.94871319 0.94454987 0.92395676 0.93117982 0.95141195 0.93367575\n",
            " 0.9069494  0.90206069 0.88518396 0.85620922 0.84643179 0.85957494\n",
            " 0.83872055 0.84358863 0.86125951 0.84554481 0.82279956 0.78619608\n",
            " 0.8111966  0.7854535  0.75461196 0.78480373 0.75424067 0.76930217\n",
            " 0.77598892 0.80655542 0.76647964 0.75900906 0.74129692 0.7516141\n",
            " 0.74732702 0.74182636 0.76489133 0.75304427 0.76617023 0.73660073\n",
            " 0.72521779 0.71536817 0.73155043 0.69207973 0.69148497 0.70837545\n",
            " 0.73933731 0.74786334 0.74853717 0.77335204 0.75147315 0.76829486\n",
            " 0.76980067 0.76985911 0.75390719 0.72990711 0.69861521 0.70079828\n",
            " 0.72277687 0.69696157 0.7054154  0.73394666 0.7340773  0.73855003\n",
            " 0.77879769 0.76562704 0.73777306 0.73560717 0.71577728 0.71377297\n",
            " 0.74681821 0.755939   0.78407833 0.79000873 0.76493946 0.7534362\n",
            " 0.7351293  0.72999306 0.73911728 0.00153675 0.00315601 0.00318351\n",
            " 0.0033004  0.00100387 0.0009523  0.         0.00280534 0.00314569\n",
            " 0.00385046 0.00345167 0.00359606 0.00458618 0.00461712 0.00439365\n",
            " 0.00436615 0.00414613 0.00522907 0.00494372 0.00591665 0.07555108\n",
            " 0.07473169 0.07554004 0.07786273 0.08129425]\n",
            "5 day output [[0.08537723]]\n",
            "6 day input [0.94454987 0.92395676 0.93117982 0.95141195 0.93367575 0.9069494\n",
            " 0.90206069 0.88518396 0.85620922 0.84643179 0.85957494 0.83872055\n",
            " 0.84358863 0.86125951 0.84554481 0.82279956 0.78619608 0.8111966\n",
            " 0.7854535  0.75461196 0.78480373 0.75424067 0.76930217 0.77598892\n",
            " 0.80655542 0.76647964 0.75900906 0.74129692 0.7516141  0.74732702\n",
            " 0.74182636 0.76489133 0.75304427 0.76617023 0.73660073 0.72521779\n",
            " 0.71536817 0.73155043 0.69207973 0.69148497 0.70837545 0.73933731\n",
            " 0.74786334 0.74853717 0.77335204 0.75147315 0.76829486 0.76980067\n",
            " 0.76985911 0.75390719 0.72990711 0.69861521 0.70079828 0.72277687\n",
            " 0.69696157 0.7054154  0.73394666 0.7340773  0.73855003 0.77879769\n",
            " 0.76562704 0.73777306 0.73560717 0.71577728 0.71377297 0.74681821\n",
            " 0.755939   0.78407833 0.79000873 0.76493946 0.7534362  0.7351293\n",
            " 0.72999306 0.73911728 0.00153675 0.00315601 0.00318351 0.0033004\n",
            " 0.00100387 0.0009523  0.         0.00280534 0.00314569 0.00385046\n",
            " 0.00345167 0.00359606 0.00458618 0.00461712 0.00439365 0.00436615\n",
            " 0.00414613 0.00522907 0.00494372 0.00591665 0.07555108 0.07473169\n",
            " 0.07554004 0.07786273 0.08129425 0.08537723]\n",
            "6 day output [[0.08972191]]\n",
            "7 day input [0.92395676 0.93117982 0.95141195 0.93367575 0.9069494  0.90206069\n",
            " 0.88518396 0.85620922 0.84643179 0.85957494 0.83872055 0.84358863\n",
            " 0.86125951 0.84554481 0.82279956 0.78619608 0.8111966  0.7854535\n",
            " 0.75461196 0.78480373 0.75424067 0.76930217 0.77598892 0.80655542\n",
            " 0.76647964 0.75900906 0.74129692 0.7516141  0.74732702 0.74182636\n",
            " 0.76489133 0.75304427 0.76617023 0.73660073 0.72521779 0.71536817\n",
            " 0.73155043 0.69207973 0.69148497 0.70837545 0.73933731 0.74786334\n",
            " 0.74853717 0.77335204 0.75147315 0.76829486 0.76980067 0.76985911\n",
            " 0.75390719 0.72990711 0.69861521 0.70079828 0.72277687 0.69696157\n",
            " 0.7054154  0.73394666 0.7340773  0.73855003 0.77879769 0.76562704\n",
            " 0.73777306 0.73560717 0.71577728 0.71377297 0.74681821 0.755939\n",
            " 0.78407833 0.79000873 0.76493946 0.7534362  0.7351293  0.72999306\n",
            " 0.73911728 0.00153675 0.00315601 0.00318351 0.0033004  0.00100387\n",
            " 0.0009523  0.         0.00280534 0.00314569 0.00385046 0.00345167\n",
            " 0.00359606 0.00458618 0.00461712 0.00439365 0.00436615 0.00414613\n",
            " 0.00522907 0.00494372 0.00591665 0.07555108 0.07473169 0.07554004\n",
            " 0.07786273 0.08129425 0.08537723 0.08972191]\n",
            "7 day output [[0.09404784]]\n",
            "8 day input [0.93117982 0.95141195 0.93367575 0.9069494  0.90206069 0.88518396\n",
            " 0.85620922 0.84643179 0.85957494 0.83872055 0.84358863 0.86125951\n",
            " 0.84554481 0.82279956 0.78619608 0.8111966  0.7854535  0.75461196\n",
            " 0.78480373 0.75424067 0.76930217 0.77598892 0.80655542 0.76647964\n",
            " 0.75900906 0.74129692 0.7516141  0.74732702 0.74182636 0.76489133\n",
            " 0.75304427 0.76617023 0.73660073 0.72521779 0.71536817 0.73155043\n",
            " 0.69207973 0.69148497 0.70837545 0.73933731 0.74786334 0.74853717\n",
            " 0.77335204 0.75147315 0.76829486 0.76980067 0.76985911 0.75390719\n",
            " 0.72990711 0.69861521 0.70079828 0.72277687 0.69696157 0.7054154\n",
            " 0.73394666 0.7340773  0.73855003 0.77879769 0.76562704 0.73777306\n",
            " 0.73560717 0.71577728 0.71377297 0.74681821 0.755939   0.78407833\n",
            " 0.79000873 0.76493946 0.7534362  0.7351293  0.72999306 0.73911728\n",
            " 0.00153675 0.00315601 0.00318351 0.0033004  0.00100387 0.0009523\n",
            " 0.         0.00280534 0.00314569 0.00385046 0.00345167 0.00359606\n",
            " 0.00458618 0.00461712 0.00439365 0.00436615 0.00414613 0.00522907\n",
            " 0.00494372 0.00591665 0.07555108 0.07473169 0.07554004 0.07786273\n",
            " 0.08129425 0.08537723 0.08972191 0.09404784]\n",
            "8 day output [[0.09818282]]\n",
            "9 day input [0.95141195 0.93367575 0.9069494  0.90206069 0.88518396 0.85620922\n",
            " 0.84643179 0.85957494 0.83872055 0.84358863 0.86125951 0.84554481\n",
            " 0.82279956 0.78619608 0.8111966  0.7854535  0.75461196 0.78480373\n",
            " 0.75424067 0.76930217 0.77598892 0.80655542 0.76647964 0.75900906\n",
            " 0.74129692 0.7516141  0.74732702 0.74182636 0.76489133 0.75304427\n",
            " 0.76617023 0.73660073 0.72521779 0.71536817 0.73155043 0.69207973\n",
            " 0.69148497 0.70837545 0.73933731 0.74786334 0.74853717 0.77335204\n",
            " 0.75147315 0.76829486 0.76980067 0.76985911 0.75390719 0.72990711\n",
            " 0.69861521 0.70079828 0.72277687 0.69696157 0.7054154  0.73394666\n",
            " 0.7340773  0.73855003 0.77879769 0.76562704 0.73777306 0.73560717\n",
            " 0.71577728 0.71377297 0.74681821 0.755939   0.78407833 0.79000873\n",
            " 0.76493946 0.7534362  0.7351293  0.72999306 0.73911728 0.00153675\n",
            " 0.00315601 0.00318351 0.0033004  0.00100387 0.0009523  0.\n",
            " 0.00280534 0.00314569 0.00385046 0.00345167 0.00359606 0.00458618\n",
            " 0.00461712 0.00439365 0.00436615 0.00414613 0.00522907 0.00494372\n",
            " 0.00591665 0.07555108 0.07473169 0.07554004 0.07786273 0.08129425\n",
            " 0.08537723 0.08972191 0.09404784 0.09818282]\n",
            "9 day output [[0.1020417]]\n",
            "10 day input [0.93367575 0.9069494  0.90206069 0.88518396 0.85620922 0.84643179\n",
            " 0.85957494 0.83872055 0.84358863 0.86125951 0.84554481 0.82279956\n",
            " 0.78619608 0.8111966  0.7854535  0.75461196 0.78480373 0.75424067\n",
            " 0.76930217 0.77598892 0.80655542 0.76647964 0.75900906 0.74129692\n",
            " 0.7516141  0.74732702 0.74182636 0.76489133 0.75304427 0.76617023\n",
            " 0.73660073 0.72521779 0.71536817 0.73155043 0.69207973 0.69148497\n",
            " 0.70837545 0.73933731 0.74786334 0.74853717 0.77335204 0.75147315\n",
            " 0.76829486 0.76980067 0.76985911 0.75390719 0.72990711 0.69861521\n",
            " 0.70079828 0.72277687 0.69696157 0.7054154  0.73394666 0.7340773\n",
            " 0.73855003 0.77879769 0.76562704 0.73777306 0.73560717 0.71577728\n",
            " 0.71377297 0.74681821 0.755939   0.78407833 0.79000873 0.76493946\n",
            " 0.7534362  0.7351293  0.72999306 0.73911728 0.00153675 0.00315601\n",
            " 0.00318351 0.0033004  0.00100387 0.0009523  0.         0.00280534\n",
            " 0.00314569 0.00385046 0.00345167 0.00359606 0.00458618 0.00461712\n",
            " 0.00439365 0.00436615 0.00414613 0.00522907 0.00494372 0.00591665\n",
            " 0.07555108 0.07473169 0.07554004 0.07786273 0.08129425 0.08537723\n",
            " 0.08972191 0.09404784 0.09818282 0.1020417 ]\n",
            "10 day output [[0.1056002]]\n",
            "11 day input [0.9069494  0.90206069 0.88518396 0.85620922 0.84643179 0.85957494\n",
            " 0.83872055 0.84358863 0.86125951 0.84554481 0.82279956 0.78619608\n",
            " 0.8111966  0.7854535  0.75461196 0.78480373 0.75424067 0.76930217\n",
            " 0.77598892 0.80655542 0.76647964 0.75900906 0.74129692 0.7516141\n",
            " 0.74732702 0.74182636 0.76489133 0.75304427 0.76617023 0.73660073\n",
            " 0.72521779 0.71536817 0.73155043 0.69207973 0.69148497 0.70837545\n",
            " 0.73933731 0.74786334 0.74853717 0.77335204 0.75147315 0.76829486\n",
            " 0.76980067 0.76985911 0.75390719 0.72990711 0.69861521 0.70079828\n",
            " 0.72277687 0.69696157 0.7054154  0.73394666 0.7340773  0.73855003\n",
            " 0.77879769 0.76562704 0.73777306 0.73560717 0.71577728 0.71377297\n",
            " 0.74681821 0.755939   0.78407833 0.79000873 0.76493946 0.7534362\n",
            " 0.7351293  0.72999306 0.73911728 0.00153675 0.00315601 0.00318351\n",
            " 0.0033004  0.00100387 0.0009523  0.         0.00280534 0.00314569\n",
            " 0.00385046 0.00345167 0.00359606 0.00458618 0.00461712 0.00439365\n",
            " 0.00436615 0.00414613 0.00522907 0.00494372 0.00591665 0.07555108\n",
            " 0.07473169 0.07554004 0.07786273 0.08129425 0.08537723 0.08972191\n",
            " 0.09404784 0.09818282 0.1020417  0.1056002 ]\n",
            "11 day output [[0.10887133]]\n",
            "12 day input [0.90206069 0.88518396 0.85620922 0.84643179 0.85957494 0.83872055\n",
            " 0.84358863 0.86125951 0.84554481 0.82279956 0.78619608 0.8111966\n",
            " 0.7854535  0.75461196 0.78480373 0.75424067 0.76930217 0.77598892\n",
            " 0.80655542 0.76647964 0.75900906 0.74129692 0.7516141  0.74732702\n",
            " 0.74182636 0.76489133 0.75304427 0.76617023 0.73660073 0.72521779\n",
            " 0.71536817 0.73155043 0.69207973 0.69148497 0.70837545 0.73933731\n",
            " 0.74786334 0.74853717 0.77335204 0.75147315 0.76829486 0.76980067\n",
            " 0.76985911 0.75390719 0.72990711 0.69861521 0.70079828 0.72277687\n",
            " 0.69696157 0.7054154  0.73394666 0.7340773  0.73855003 0.77879769\n",
            " 0.76562704 0.73777306 0.73560717 0.71577728 0.71377297 0.74681821\n",
            " 0.755939   0.78407833 0.79000873 0.76493946 0.7534362  0.7351293\n",
            " 0.72999306 0.73911728 0.00153675 0.00315601 0.00318351 0.0033004\n",
            " 0.00100387 0.0009523  0.         0.00280534 0.00314569 0.00385046\n",
            " 0.00345167 0.00359606 0.00458618 0.00461712 0.00439365 0.00436615\n",
            " 0.00414613 0.00522907 0.00494372 0.00591665 0.07555108 0.07473169\n",
            " 0.07554004 0.07786273 0.08129425 0.08537723 0.08972191 0.09404784\n",
            " 0.09818282 0.1020417  0.1056002  0.10887133]\n",
            "12 day output [[0.11188725]]\n",
            "13 day input [0.88518396 0.85620922 0.84643179 0.85957494 0.83872055 0.84358863\n",
            " 0.86125951 0.84554481 0.82279956 0.78619608 0.8111966  0.7854535\n",
            " 0.75461196 0.78480373 0.75424067 0.76930217 0.77598892 0.80655542\n",
            " 0.76647964 0.75900906 0.74129692 0.7516141  0.74732702 0.74182636\n",
            " 0.76489133 0.75304427 0.76617023 0.73660073 0.72521779 0.71536817\n",
            " 0.73155043 0.69207973 0.69148497 0.70837545 0.73933731 0.74786334\n",
            " 0.74853717 0.77335204 0.75147315 0.76829486 0.76980067 0.76985911\n",
            " 0.75390719 0.72990711 0.69861521 0.70079828 0.72277687 0.69696157\n",
            " 0.7054154  0.73394666 0.7340773  0.73855003 0.77879769 0.76562704\n",
            " 0.73777306 0.73560717 0.71577728 0.71377297 0.74681821 0.755939\n",
            " 0.78407833 0.79000873 0.76493946 0.7534362  0.7351293  0.72999306\n",
            " 0.73911728 0.00153675 0.00315601 0.00318351 0.0033004  0.00100387\n",
            " 0.0009523  0.         0.00280534 0.00314569 0.00385046 0.00345167\n",
            " 0.00359606 0.00458618 0.00461712 0.00439365 0.00436615 0.00414613\n",
            " 0.00522907 0.00494372 0.00591665 0.07555108 0.07473169 0.07554004\n",
            " 0.07786273 0.08129425 0.08537723 0.08972191 0.09404784 0.09818282\n",
            " 0.1020417  0.1056002  0.10887133 0.11188725]\n",
            "13 day output [[0.1146871]]\n",
            "14 day input [0.85620922 0.84643179 0.85957494 0.83872055 0.84358863 0.86125951\n",
            " 0.84554481 0.82279956 0.78619608 0.8111966  0.7854535  0.75461196\n",
            " 0.78480373 0.75424067 0.76930217 0.77598892 0.80655542 0.76647964\n",
            " 0.75900906 0.74129692 0.7516141  0.74732702 0.74182636 0.76489133\n",
            " 0.75304427 0.76617023 0.73660073 0.72521779 0.71536817 0.73155043\n",
            " 0.69207973 0.69148497 0.70837545 0.73933731 0.74786334 0.74853717\n",
            " 0.77335204 0.75147315 0.76829486 0.76980067 0.76985911 0.75390719\n",
            " 0.72990711 0.69861521 0.70079828 0.72277687 0.69696157 0.7054154\n",
            " 0.73394666 0.7340773  0.73855003 0.77879769 0.76562704 0.73777306\n",
            " 0.73560717 0.71577728 0.71377297 0.74681821 0.755939   0.78407833\n",
            " 0.79000873 0.76493946 0.7534362  0.7351293  0.72999306 0.73911728\n",
            " 0.00153675 0.00315601 0.00318351 0.0033004  0.00100387 0.0009523\n",
            " 0.         0.00280534 0.00314569 0.00385046 0.00345167 0.00359606\n",
            " 0.00458618 0.00461712 0.00439365 0.00436615 0.00414613 0.00522907\n",
            " 0.00494372 0.00591665 0.07555108 0.07473169 0.07554004 0.07786273\n",
            " 0.08129425 0.08537723 0.08972191 0.09404784 0.09818282 0.1020417\n",
            " 0.1056002  0.10887133 0.11188725 0.1146871 ]\n",
            "14 day output [[0.11730996]]\n",
            "15 day input [0.84643179 0.85957494 0.83872055 0.84358863 0.86125951 0.84554481\n",
            " 0.82279956 0.78619608 0.8111966  0.7854535  0.75461196 0.78480373\n",
            " 0.75424067 0.76930217 0.77598892 0.80655542 0.76647964 0.75900906\n",
            " 0.74129692 0.7516141  0.74732702 0.74182636 0.76489133 0.75304427\n",
            " 0.76617023 0.73660073 0.72521779 0.71536817 0.73155043 0.69207973\n",
            " 0.69148497 0.70837545 0.73933731 0.74786334 0.74853717 0.77335204\n",
            " 0.75147315 0.76829486 0.76980067 0.76985911 0.75390719 0.72990711\n",
            " 0.69861521 0.70079828 0.72277687 0.69696157 0.7054154  0.73394666\n",
            " 0.7340773  0.73855003 0.77879769 0.76562704 0.73777306 0.73560717\n",
            " 0.71577728 0.71377297 0.74681821 0.755939   0.78407833 0.79000873\n",
            " 0.76493946 0.7534362  0.7351293  0.72999306 0.73911728 0.00153675\n",
            " 0.00315601 0.00318351 0.0033004  0.00100387 0.0009523  0.\n",
            " 0.00280534 0.00314569 0.00385046 0.00345167 0.00359606 0.00458618\n",
            " 0.00461712 0.00439365 0.00436615 0.00414613 0.00522907 0.00494372\n",
            " 0.00591665 0.07555108 0.07473169 0.07554004 0.07786273 0.08129425\n",
            " 0.08537723 0.08972191 0.09404784 0.09818282 0.1020417  0.1056002\n",
            " 0.10887133 0.11188725 0.1146871  0.11730996]\n",
            "15 day output [[0.11979106]]\n",
            "16 day input [0.85957494 0.83872055 0.84358863 0.86125951 0.84554481 0.82279956\n",
            " 0.78619608 0.8111966  0.7854535  0.75461196 0.78480373 0.75424067\n",
            " 0.76930217 0.77598892 0.80655542 0.76647964 0.75900906 0.74129692\n",
            " 0.7516141  0.74732702 0.74182636 0.76489133 0.75304427 0.76617023\n",
            " 0.73660073 0.72521779 0.71536817 0.73155043 0.69207973 0.69148497\n",
            " 0.70837545 0.73933731 0.74786334 0.74853717 0.77335204 0.75147315\n",
            " 0.76829486 0.76980067 0.76985911 0.75390719 0.72990711 0.69861521\n",
            " 0.70079828 0.72277687 0.69696157 0.7054154  0.73394666 0.7340773\n",
            " 0.73855003 0.77879769 0.76562704 0.73777306 0.73560717 0.71577728\n",
            " 0.71377297 0.74681821 0.755939   0.78407833 0.79000873 0.76493946\n",
            " 0.7534362  0.7351293  0.72999306 0.73911728 0.00153675 0.00315601\n",
            " 0.00318351 0.0033004  0.00100387 0.0009523  0.         0.00280534\n",
            " 0.00314569 0.00385046 0.00345167 0.00359606 0.00458618 0.00461712\n",
            " 0.00439365 0.00436615 0.00414613 0.00522907 0.00494372 0.00591665\n",
            " 0.07555108 0.07473169 0.07554004 0.07786273 0.08129425 0.08537723\n",
            " 0.08972191 0.09404784 0.09818282 0.1020417  0.1056002  0.10887133\n",
            " 0.11188725 0.1146871  0.11730996 0.11979106]\n",
            "16 day output [[0.12216043]]\n",
            "17 day input [0.83872055 0.84358863 0.86125951 0.84554481 0.82279956 0.78619608\n",
            " 0.8111966  0.7854535  0.75461196 0.78480373 0.75424067 0.76930217\n",
            " 0.77598892 0.80655542 0.76647964 0.75900906 0.74129692 0.7516141\n",
            " 0.74732702 0.74182636 0.76489133 0.75304427 0.76617023 0.73660073\n",
            " 0.72521779 0.71536817 0.73155043 0.69207973 0.69148497 0.70837545\n",
            " 0.73933731 0.74786334 0.74853717 0.77335204 0.75147315 0.76829486\n",
            " 0.76980067 0.76985911 0.75390719 0.72990711 0.69861521 0.70079828\n",
            " 0.72277687 0.69696157 0.7054154  0.73394666 0.7340773  0.73855003\n",
            " 0.77879769 0.76562704 0.73777306 0.73560717 0.71577728 0.71377297\n",
            " 0.74681821 0.755939   0.78407833 0.79000873 0.76493946 0.7534362\n",
            " 0.7351293  0.72999306 0.73911728 0.00153675 0.00315601 0.00318351\n",
            " 0.0033004  0.00100387 0.0009523  0.         0.00280534 0.00314569\n",
            " 0.00385046 0.00345167 0.00359606 0.00458618 0.00461712 0.00439365\n",
            " 0.00436615 0.00414613 0.00522907 0.00494372 0.00591665 0.07555108\n",
            " 0.07473169 0.07554004 0.07786273 0.08129425 0.08537723 0.08972191\n",
            " 0.09404784 0.09818282 0.1020417  0.1056002  0.10887133 0.11188725\n",
            " 0.1146871  0.11730996 0.11979106 0.12216043]\n",
            "17 day output [[0.12444277]]\n",
            "18 day input [0.84358863 0.86125951 0.84554481 0.82279956 0.78619608 0.8111966\n",
            " 0.7854535  0.75461196 0.78480373 0.75424067 0.76930217 0.77598892\n",
            " 0.80655542 0.76647964 0.75900906 0.74129692 0.7516141  0.74732702\n",
            " 0.74182636 0.76489133 0.75304427 0.76617023 0.73660073 0.72521779\n",
            " 0.71536817 0.73155043 0.69207973 0.69148497 0.70837545 0.73933731\n",
            " 0.74786334 0.74853717 0.77335204 0.75147315 0.76829486 0.76980067\n",
            " 0.76985911 0.75390719 0.72990711 0.69861521 0.70079828 0.72277687\n",
            " 0.69696157 0.7054154  0.73394666 0.7340773  0.73855003 0.77879769\n",
            " 0.76562704 0.73777306 0.73560717 0.71577728 0.71377297 0.74681821\n",
            " 0.755939   0.78407833 0.79000873 0.76493946 0.7534362  0.7351293\n",
            " 0.72999306 0.73911728 0.00153675 0.00315601 0.00318351 0.0033004\n",
            " 0.00100387 0.0009523  0.         0.00280534 0.00314569 0.00385046\n",
            " 0.00345167 0.00359606 0.00458618 0.00461712 0.00439365 0.00436615\n",
            " 0.00414613 0.00522907 0.00494372 0.00591665 0.07555108 0.07473169\n",
            " 0.07554004 0.07786273 0.08129425 0.08537723 0.08972191 0.09404784\n",
            " 0.09818282 0.1020417  0.1056002  0.10887133 0.11188725 0.1146871\n",
            " 0.11730996 0.11979106 0.12216043 0.12444277]\n",
            "18 day output [[0.12665793]]\n",
            "19 day input [0.86125951 0.84554481 0.82279956 0.78619608 0.8111966  0.7854535\n",
            " 0.75461196 0.78480373 0.75424067 0.76930217 0.77598892 0.80655542\n",
            " 0.76647964 0.75900906 0.74129692 0.7516141  0.74732702 0.74182636\n",
            " 0.76489133 0.75304427 0.76617023 0.73660073 0.72521779 0.71536817\n",
            " 0.73155043 0.69207973 0.69148497 0.70837545 0.73933731 0.74786334\n",
            " 0.74853717 0.77335204 0.75147315 0.76829486 0.76980067 0.76985911\n",
            " 0.75390719 0.72990711 0.69861521 0.70079828 0.72277687 0.69696157\n",
            " 0.7054154  0.73394666 0.7340773  0.73855003 0.77879769 0.76562704\n",
            " 0.73777306 0.73560717 0.71577728 0.71377297 0.74681821 0.755939\n",
            " 0.78407833 0.79000873 0.76493946 0.7534362  0.7351293  0.72999306\n",
            " 0.73911728 0.00153675 0.00315601 0.00318351 0.0033004  0.00100387\n",
            " 0.0009523  0.         0.00280534 0.00314569 0.00385046 0.00345167\n",
            " 0.00359606 0.00458618 0.00461712 0.00439365 0.00436615 0.00414613\n",
            " 0.00522907 0.00494372 0.00591665 0.07555108 0.07473169 0.07554004\n",
            " 0.07786273 0.08129425 0.08537723 0.08972191 0.09404784 0.09818282\n",
            " 0.1020417  0.1056002  0.10887133 0.11188725 0.1146871  0.11730996\n",
            " 0.11979106 0.12216043 0.12444277 0.12665793]\n",
            "19 day output [[0.12882157]]\n",
            "20 day input [0.84554481 0.82279956 0.78619608 0.8111966  0.7854535  0.75461196\n",
            " 0.78480373 0.75424067 0.76930217 0.77598892 0.80655542 0.76647964\n",
            " 0.75900906 0.74129692 0.7516141  0.74732702 0.74182636 0.76489133\n",
            " 0.75304427 0.76617023 0.73660073 0.72521779 0.71536817 0.73155043\n",
            " 0.69207973 0.69148497 0.70837545 0.73933731 0.74786334 0.74853717\n",
            " 0.77335204 0.75147315 0.76829486 0.76980067 0.76985911 0.75390719\n",
            " 0.72990711 0.69861521 0.70079828 0.72277687 0.69696157 0.7054154\n",
            " 0.73394666 0.7340773  0.73855003 0.77879769 0.76562704 0.73777306\n",
            " 0.73560717 0.71577728 0.71377297 0.74681821 0.755939   0.78407833\n",
            " 0.79000873 0.76493946 0.7534362  0.7351293  0.72999306 0.73911728\n",
            " 0.00153675 0.00315601 0.00318351 0.0033004  0.00100387 0.0009523\n",
            " 0.         0.00280534 0.00314569 0.00385046 0.00345167 0.00359606\n",
            " 0.00458618 0.00461712 0.00439365 0.00436615 0.00414613 0.00522907\n",
            " 0.00494372 0.00591665 0.07555108 0.07473169 0.07554004 0.07786273\n",
            " 0.08129425 0.08537723 0.08972191 0.09404784 0.09818282 0.1020417\n",
            " 0.1056002  0.10887133 0.11188725 0.1146871  0.11730996 0.11979106\n",
            " 0.12216043 0.12444277 0.12665793 0.12882157]\n",
            "20 day output [[0.13094595]]\n",
            "21 day input [0.82279956 0.78619608 0.8111966  0.7854535  0.75461196 0.78480373\n",
            " 0.75424067 0.76930217 0.77598892 0.80655542 0.76647964 0.75900906\n",
            " 0.74129692 0.7516141  0.74732702 0.74182636 0.76489133 0.75304427\n",
            " 0.76617023 0.73660073 0.72521779 0.71536817 0.73155043 0.69207973\n",
            " 0.69148497 0.70837545 0.73933731 0.74786334 0.74853717 0.77335204\n",
            " 0.75147315 0.76829486 0.76980067 0.76985911 0.75390719 0.72990711\n",
            " 0.69861521 0.70079828 0.72277687 0.69696157 0.7054154  0.73394666\n",
            " 0.7340773  0.73855003 0.77879769 0.76562704 0.73777306 0.73560717\n",
            " 0.71577728 0.71377297 0.74681821 0.755939   0.78407833 0.79000873\n",
            " 0.76493946 0.7534362  0.7351293  0.72999306 0.73911728 0.00153675\n",
            " 0.00315601 0.00318351 0.0033004  0.00100387 0.0009523  0.\n",
            " 0.00280534 0.00314569 0.00385046 0.00345167 0.00359606 0.00458618\n",
            " 0.00461712 0.00439365 0.00436615 0.00414613 0.00522907 0.00494372\n",
            " 0.00591665 0.07555108 0.07473169 0.07554004 0.07786273 0.08129425\n",
            " 0.08537723 0.08972191 0.09404784 0.09818282 0.1020417  0.1056002\n",
            " 0.10887133 0.11188725 0.1146871  0.11730996 0.11979106 0.12216043\n",
            " 0.12444277 0.12665793 0.12882157 0.13094595]\n",
            "21 day output [[0.13304047]]\n",
            "22 day input [0.78619608 0.8111966  0.7854535  0.75461196 0.78480373 0.75424067\n",
            " 0.76930217 0.77598892 0.80655542 0.76647964 0.75900906 0.74129692\n",
            " 0.7516141  0.74732702 0.74182636 0.76489133 0.75304427 0.76617023\n",
            " 0.73660073 0.72521779 0.71536817 0.73155043 0.69207973 0.69148497\n",
            " 0.70837545 0.73933731 0.74786334 0.74853717 0.77335204 0.75147315\n",
            " 0.76829486 0.76980067 0.76985911 0.75390719 0.72990711 0.69861521\n",
            " 0.70079828 0.72277687 0.69696157 0.7054154  0.73394666 0.7340773\n",
            " 0.73855003 0.77879769 0.76562704 0.73777306 0.73560717 0.71577728\n",
            " 0.71377297 0.74681821 0.755939   0.78407833 0.79000873 0.76493946\n",
            " 0.7534362  0.7351293  0.72999306 0.73911728 0.00153675 0.00315601\n",
            " 0.00318351 0.0033004  0.00100387 0.0009523  0.         0.00280534\n",
            " 0.00314569 0.00385046 0.00345167 0.00359606 0.00458618 0.00461712\n",
            " 0.00439365 0.00436615 0.00414613 0.00522907 0.00494372 0.00591665\n",
            " 0.07555108 0.07473169 0.07554004 0.07786273 0.08129425 0.08537723\n",
            " 0.08972191 0.09404784 0.09818282 0.1020417  0.1056002  0.10887133\n",
            " 0.11188725 0.1146871  0.11730996 0.11979106 0.12216043 0.12444277\n",
            " 0.12665793 0.12882157 0.13094595 0.13304047]\n",
            "22 day output [[0.13511218]]\n",
            "23 day input [0.8111966  0.7854535  0.75461196 0.78480373 0.75424067 0.76930217\n",
            " 0.77598892 0.80655542 0.76647964 0.75900906 0.74129692 0.7516141\n",
            " 0.74732702 0.74182636 0.76489133 0.75304427 0.76617023 0.73660073\n",
            " 0.72521779 0.71536817 0.73155043 0.69207973 0.69148497 0.70837545\n",
            " 0.73933731 0.74786334 0.74853717 0.77335204 0.75147315 0.76829486\n",
            " 0.76980067 0.76985911 0.75390719 0.72990711 0.69861521 0.70079828\n",
            " 0.72277687 0.69696157 0.7054154  0.73394666 0.7340773  0.73855003\n",
            " 0.77879769 0.76562704 0.73777306 0.73560717 0.71577728 0.71377297\n",
            " 0.74681821 0.755939   0.78407833 0.79000873 0.76493946 0.7534362\n",
            " 0.7351293  0.72999306 0.73911728 0.00153675 0.00315601 0.00318351\n",
            " 0.0033004  0.00100387 0.0009523  0.         0.00280534 0.00314569\n",
            " 0.00385046 0.00345167 0.00359606 0.00458618 0.00461712 0.00439365\n",
            " 0.00436615 0.00414613 0.00522907 0.00494372 0.00591665 0.07555108\n",
            " 0.07473169 0.07554004 0.07786273 0.08129425 0.08537723 0.08972191\n",
            " 0.09404784 0.09818282 0.1020417  0.1056002  0.10887133 0.11188725\n",
            " 0.1146871  0.11730996 0.11979106 0.12216043 0.12444277 0.12665793\n",
            " 0.12882157 0.13094595 0.13304047 0.13511218]\n",
            "23 day output [[0.1371663]]\n",
            "24 day input [0.7854535  0.75461196 0.78480373 0.75424067 0.76930217 0.77598892\n",
            " 0.80655542 0.76647964 0.75900906 0.74129692 0.7516141  0.74732702\n",
            " 0.74182636 0.76489133 0.75304427 0.76617023 0.73660073 0.72521779\n",
            " 0.71536817 0.73155043 0.69207973 0.69148497 0.70837545 0.73933731\n",
            " 0.74786334 0.74853717 0.77335204 0.75147315 0.76829486 0.76980067\n",
            " 0.76985911 0.75390719 0.72990711 0.69861521 0.70079828 0.72277687\n",
            " 0.69696157 0.7054154  0.73394666 0.7340773  0.73855003 0.77879769\n",
            " 0.76562704 0.73777306 0.73560717 0.71577728 0.71377297 0.74681821\n",
            " 0.755939   0.78407833 0.79000873 0.76493946 0.7534362  0.7351293\n",
            " 0.72999306 0.73911728 0.00153675 0.00315601 0.00318351 0.0033004\n",
            " 0.00100387 0.0009523  0.         0.00280534 0.00314569 0.00385046\n",
            " 0.00345167 0.00359606 0.00458618 0.00461712 0.00439365 0.00436615\n",
            " 0.00414613 0.00522907 0.00494372 0.00591665 0.07555108 0.07473169\n",
            " 0.07554004 0.07786273 0.08129425 0.08537723 0.08972191 0.09404784\n",
            " 0.09818282 0.1020417  0.1056002  0.10887133 0.11188725 0.1146871\n",
            " 0.11730996 0.11979106 0.12216043 0.12444277 0.12665793 0.12882157\n",
            " 0.13094595 0.13304047 0.13511218 0.13716631]\n",
            "24 day output [[0.13920647]]\n",
            "25 day input [0.75461196 0.78480373 0.75424067 0.76930217 0.77598892 0.80655542\n",
            " 0.76647964 0.75900906 0.74129692 0.7516141  0.74732702 0.74182636\n",
            " 0.76489133 0.75304427 0.76617023 0.73660073 0.72521779 0.71536817\n",
            " 0.73155043 0.69207973 0.69148497 0.70837545 0.73933731 0.74786334\n",
            " 0.74853717 0.77335204 0.75147315 0.76829486 0.76980067 0.76985911\n",
            " 0.75390719 0.72990711 0.69861521 0.70079828 0.72277687 0.69696157\n",
            " 0.7054154  0.73394666 0.7340773  0.73855003 0.77879769 0.76562704\n",
            " 0.73777306 0.73560717 0.71577728 0.71377297 0.74681821 0.755939\n",
            " 0.78407833 0.79000873 0.76493946 0.7534362  0.7351293  0.72999306\n",
            " 0.73911728 0.00153675 0.00315601 0.00318351 0.0033004  0.00100387\n",
            " 0.0009523  0.         0.00280534 0.00314569 0.00385046 0.00345167\n",
            " 0.00359606 0.00458618 0.00461712 0.00439365 0.00436615 0.00414613\n",
            " 0.00522907 0.00494372 0.00591665 0.07555108 0.07473169 0.07554004\n",
            " 0.07786273 0.08129425 0.08537723 0.08972191 0.09404784 0.09818282\n",
            " 0.1020417  0.1056002  0.10887133 0.11188725 0.1146871  0.11730996\n",
            " 0.11979106 0.12216043 0.12444277 0.12665793 0.12882157 0.13094595\n",
            " 0.13304047 0.13511218 0.13716631 0.13920647]\n",
            "25 day output [[0.14123507]]\n",
            "26 day input [0.78480373 0.75424067 0.76930217 0.77598892 0.80655542 0.76647964\n",
            " 0.75900906 0.74129692 0.7516141  0.74732702 0.74182636 0.76489133\n",
            " 0.75304427 0.76617023 0.73660073 0.72521779 0.71536817 0.73155043\n",
            " 0.69207973 0.69148497 0.70837545 0.73933731 0.74786334 0.74853717\n",
            " 0.77335204 0.75147315 0.76829486 0.76980067 0.76985911 0.75390719\n",
            " 0.72990711 0.69861521 0.70079828 0.72277687 0.69696157 0.7054154\n",
            " 0.73394666 0.7340773  0.73855003 0.77879769 0.76562704 0.73777306\n",
            " 0.73560717 0.71577728 0.71377297 0.74681821 0.755939   0.78407833\n",
            " 0.79000873 0.76493946 0.7534362  0.7351293  0.72999306 0.73911728\n",
            " 0.00153675 0.00315601 0.00318351 0.0033004  0.00100387 0.0009523\n",
            " 0.         0.00280534 0.00314569 0.00385046 0.00345167 0.00359606\n",
            " 0.00458618 0.00461712 0.00439365 0.00436615 0.00414613 0.00522907\n",
            " 0.00494372 0.00591665 0.07555108 0.07473169 0.07554004 0.07786273\n",
            " 0.08129425 0.08537723 0.08972191 0.09404784 0.09818282 0.1020417\n",
            " 0.1056002  0.10887133 0.11188725 0.1146871  0.11730996 0.11979106\n",
            " 0.12216043 0.12444277 0.12665793 0.12882157 0.13094595 0.13304047\n",
            " 0.13511218 0.13716631 0.13920647 0.14123507]\n",
            "26 day output [[0.14325355]]\n",
            "27 day input [0.75424067 0.76930217 0.77598892 0.80655542 0.76647964 0.75900906\n",
            " 0.74129692 0.7516141  0.74732702 0.74182636 0.76489133 0.75304427\n",
            " 0.76617023 0.73660073 0.72521779 0.71536817 0.73155043 0.69207973\n",
            " 0.69148497 0.70837545 0.73933731 0.74786334 0.74853717 0.77335204\n",
            " 0.75147315 0.76829486 0.76980067 0.76985911 0.75390719 0.72990711\n",
            " 0.69861521 0.70079828 0.72277687 0.69696157 0.7054154  0.73394666\n",
            " 0.7340773  0.73855003 0.77879769 0.76562704 0.73777306 0.73560717\n",
            " 0.71577728 0.71377297 0.74681821 0.755939   0.78407833 0.79000873\n",
            " 0.76493946 0.7534362  0.7351293  0.72999306 0.73911728 0.00153675\n",
            " 0.00315601 0.00318351 0.0033004  0.00100387 0.0009523  0.\n",
            " 0.00280534 0.00314569 0.00385046 0.00345167 0.00359606 0.00458618\n",
            " 0.00461712 0.00439365 0.00436615 0.00414613 0.00522907 0.00494372\n",
            " 0.00591665 0.07555108 0.07473169 0.07554004 0.07786273 0.08129425\n",
            " 0.08537723 0.08972191 0.09404784 0.09818282 0.1020417  0.1056002\n",
            " 0.10887133 0.11188725 0.1146871  0.11730996 0.11979106 0.12216043\n",
            " 0.12444277 0.12665793 0.12882157 0.13094595 0.13304047 0.13511218\n",
            " 0.13716631 0.13920647 0.14123507 0.14325355]\n",
            "27 day output [[0.14526255]]\n",
            "28 day input [0.76930217 0.77598892 0.80655542 0.76647964 0.75900906 0.74129692\n",
            " 0.7516141  0.74732702 0.74182636 0.76489133 0.75304427 0.76617023\n",
            " 0.73660073 0.72521779 0.71536817 0.73155043 0.69207973 0.69148497\n",
            " 0.70837545 0.73933731 0.74786334 0.74853717 0.77335204 0.75147315\n",
            " 0.76829486 0.76980067 0.76985911 0.75390719 0.72990711 0.69861521\n",
            " 0.70079828 0.72277687 0.69696157 0.7054154  0.73394666 0.7340773\n",
            " 0.73855003 0.77879769 0.76562704 0.73777306 0.73560717 0.71577728\n",
            " 0.71377297 0.74681821 0.755939   0.78407833 0.79000873 0.76493946\n",
            " 0.7534362  0.7351293  0.72999306 0.73911728 0.00153675 0.00315601\n",
            " 0.00318351 0.0033004  0.00100387 0.0009523  0.         0.00280534\n",
            " 0.00314569 0.00385046 0.00345167 0.00359606 0.00458618 0.00461712\n",
            " 0.00439365 0.00436615 0.00414613 0.00522907 0.00494372 0.00591665\n",
            " 0.07555108 0.07473169 0.07554004 0.07786273 0.08129425 0.08537723\n",
            " 0.08972191 0.09404784 0.09818282 0.1020417  0.1056002  0.10887133\n",
            " 0.11188725 0.1146871  0.11730996 0.11979106 0.12216043 0.12444277\n",
            " 0.12665793 0.12882157 0.13094595 0.13304047 0.13511218 0.13716631\n",
            " 0.13920647 0.14123507 0.14325355 0.14526255]\n",
            "28 day output [[0.14726211]]\n",
            "29 day input [0.77598892 0.80655542 0.76647964 0.75900906 0.74129692 0.7516141\n",
            " 0.74732702 0.74182636 0.76489133 0.75304427 0.76617023 0.73660073\n",
            " 0.72521779 0.71536817 0.73155043 0.69207973 0.69148497 0.70837545\n",
            " 0.73933731 0.74786334 0.74853717 0.77335204 0.75147315 0.76829486\n",
            " 0.76980067 0.76985911 0.75390719 0.72990711 0.69861521 0.70079828\n",
            " 0.72277687 0.69696157 0.7054154  0.73394666 0.7340773  0.73855003\n",
            " 0.77879769 0.76562704 0.73777306 0.73560717 0.71577728 0.71377297\n",
            " 0.74681821 0.755939   0.78407833 0.79000873 0.76493946 0.7534362\n",
            " 0.7351293  0.72999306 0.73911728 0.00153675 0.00315601 0.00318351\n",
            " 0.0033004  0.00100387 0.0009523  0.         0.00280534 0.00314569\n",
            " 0.00385046 0.00345167 0.00359606 0.00458618 0.00461712 0.00439365\n",
            " 0.00436615 0.00414613 0.00522907 0.00494372 0.00591665 0.07555108\n",
            " 0.07473169 0.07554004 0.07786273 0.08129425 0.08537723 0.08972191\n",
            " 0.09404784 0.09818282 0.1020417  0.1056002  0.10887133 0.11188725\n",
            " 0.1146871  0.11730996 0.11979106 0.12216043 0.12444277 0.12665793\n",
            " 0.12882157 0.13094595 0.13304047 0.13511218 0.13716631 0.13920647\n",
            " 0.14123507 0.14325355 0.14526255 0.14726211]\n",
            "29 day output [[0.14925195]]\n"
          ]
        }
      ],
      "source": [
        "x_input=test_data[340:].reshape(1,-1)\n",
        "x_input.shape\n",
        "\n",
        "temp_input=list(x_input)\n",
        "temp_input=temp_input[0].tolist()\n",
        "\n",
        "lst_output=[]\n",
        "n_steps=100\n",
        "i=0\n",
        "while(i<30):\n",
        "    \n",
        "    if(len(temp_input)>100):\n",
        "        #print(temp_input)\n",
        "        x_input=np.array(temp_input[1:])\n",
        "        print(\"{} day input {}\".format(i,x_input))\n",
        "        x_input=x_input.reshape(1,-1)\n",
        "        x_input = x_input.reshape((1, n_steps, 1))\n",
        "        #print(x_input)\n",
        "        yhat = model.predict(x_input, verbose=0)\n",
        "        print(\"{} day output {}\".format(i,yhat))\n",
        "        temp_input.extend(yhat[0].tolist())\n",
        "        temp_input=temp_input[1:]\n",
        "        #print(temp_input)\n",
        "        lst_output.extend(yhat.tolist())\n",
        "        i=i+1\n",
        "    else:\n",
        "        x_input = x_input.reshape((1, n_steps,1))\n",
        "        yhat = model.predict(x_input, verbose=0)\n",
        "        temp_input.extend(yhat[0].tolist())\n",
        "        lst_output.extend(yhat.tolist())\n",
        "        i=i+1"
      ]
    },
    {
      "cell_type": "code",
      "execution_count": 21,
      "metadata": {
        "id": "cbehoWNwB4do"
      },
      "outputs": [],
      "source": [
        "day_new=np.arange(1,101)\n",
        "day_pred=np.arange(101,131)"
      ]
    },
    {
      "cell_type": "code",
      "execution_count": 22,
      "metadata": {
        "colab": {
          "base_uri": "https://localhost:8080/"
        },
        "id": "GptBae-WCBfx",
        "outputId": "f8a9548a-7925-4e1e-ee3e-87d81d973091"
      },
      "outputs": [
        {
          "data": {
            "text/plain": [
              "1259"
            ]
          },
          "execution_count": 22,
          "metadata": {},
          "output_type": "execute_result"
        }
      ],
      "source": [
        "len(df1)"
      ]
    },
    {
      "cell_type": "code",
      "execution_count": 24,
      "metadata": {
        "colab": {
          "base_uri": "https://localhost:8080/",
          "height": 287
        },
        "id": "pX7i_V0KB6io",
        "outputId": "94ff25d8-4ab0-4baa-ea6c-d8e5d8b44409"
      },
      "outputs": [
        {
          "data": {
            "text/plain": [
              "[<matplotlib.lines.Line2D at 0x7f93204f5950>]"
            ]
          },
          "execution_count": 24,
          "metadata": {},
          "output_type": "execute_result"
        },
        {
          "data": {
            "image/png": "[encoded data removed]",
            "text/plain": [
              "<Figure size 432x288 with 1 Axes>"
            ]
          },
          "metadata": {
            "needs_background": "light"
          },
          "output_type": "display_data"
        }
      ],
      "source": [
        "plt.plot(day_new,scaler.inverse_transform(df1[1159:]))\n",
        "plt.plot(day_pred,scaler.inverse_transform(lst_output))"
      ]
    },
    {
      "cell_type": "code",
      "execution_count": 25,
      "metadata": {
        "colab": {
          "base_uri": "https://localhost:8080/",
          "height": 283
        },
        "id": "gNADJSsCB8M_",
        "outputId": "99f0c8ad-07eb-482f-b24b-843e07a119df"
      },
      "outputs": [
        {
          "data": {
            "text/plain": [
              "[<matplotlib.lines.Line2D at 0x7f931ffe3410>]"
            ]
          },
          "execution_count": 25,
          "metadata": {},
          "output_type": "execute_result"
        },
        {
          "data": {
            "image/png": "[encoded data removed]",
            "text/plain": [
              "<Figure size 432x288 with 1 Axes>"
            ]
          },
          "metadata": {
            "needs_background": "light"
          },
          "output_type": "display_data"
        }
      ],
      "source": [
        "df3=df1.tolist()\n",
        "df3.extend(lst_output)\n",
        "plt.plot(df3[1200:])"
      ]
    },
    {
      "cell_type": "code",
      "execution_count": 26,
      "metadata": {
        "colab": {
          "base_uri": "https://localhost:8080/",
          "height": 283
        },
        "id": "_4vSDsFvCh9M",
        "outputId": "b66a7a8e-376f-4071-fd6f-c70302c15e08"
      },
      "outputs": [
        {
          "data": {
            "text/plain": [
              "[<matplotlib.lines.Line2D at 0x7f931be92910>]"
            ]
          },
          "execution_count": 26,
          "metadata": {},
          "output_type": "execute_result"
        },
        {
          "data": {
            "image/png": "[encoded data removed]",
            "text/plain": [
              "<Figure size 432x288 with 1 Axes>"
            ]
          },
          "metadata": {
            "needs_background": "light"
          },
          "output_type": "display_data"
        }
      ],
      "source": [
        "df3=scaler.inverse_transform(df3).tolist()\n",
        "plt.plot(df3)\n"
      ]
    },
    {
      "cell_type": "code",
      "execution_count": 27,
      "metadata": {
        "colab": {
          "base_uri": "https://localhost:8080/"
        },
        "id": "256TqzhKCleT",
        "outputId": "fce9aa26-b8ce-4c07-b56f-3f7c89653a03"
      },
      "outputs": [
        {
          "name": "stderr",
          "output_type": "stream",
          "text": [
            "WARNING:absl:Found untraced functions such as lstm_cell_layer_call_fn, lstm_cell_layer_call_and_return_conditional_losses, lstm_cell_1_layer_call_fn, lstm_cell_1_layer_call_and_return_conditional_losses, lstm_cell_2_layer_call_fn while saving (showing 5 of 6). These functions will not be directly callable after loading.\n",
            "WARNING:absl:<keras.layers.recurrent.LSTMCell object at 0x7f93247cf750> has the same name 'LSTMCell' as a built-in Keras object. Consider renaming <class 'keras.layers.recurrent.LSTMCell'> to avoid naming conflicts when loading with `tf.keras.models.load_model`. If renaming is not possible, pass the object in the `custom_objects` parameter of the load function.\n",
            "WARNING:absl:<keras.layers.recurrent.LSTMCell object at 0x7f93209f9f10> has the same name 'LSTMCell' as a built-in Keras object. Consider renaming <class 'keras.layers.recurrent.LSTMCell'> to avoid naming conflicts when loading with `tf.keras.models.load_model`. If renaming is not possible, pass the object in the `custom_objects` parameter of the load function.\n",
            "WARNING:absl:<keras.layers.recurrent.LSTMCell object at 0x7f93209f9850> has the same name 'LSTMCell' as a built-in Keras object. Consider renaming <class 'keras.layers.recurrent.LSTMCell'> to avoid naming conflicts when loading with `tf.keras.models.load_model`. If renaming is not possible, pass the object in the `custom_objects` parameter of the load function.\n"
          ]
        }
      ],
      "source": [
        "import pickle\n",
        "pickle.dump(model, open('timeseries_model.pkl','wb'))"
      ]
    },
    {
      "cell_type": "code",
      "execution_count": null,
      "metadata": {
        "id": "TOBXJ_Rw6uhE"
      },
      "outputs": [],
      "source": [
        "model1 = pickle.load(open('model.pkl','rb'))\n",
        "\n",
        "tweet = \"great buying opportunity\"\n",
        "input_size = 50\n",
        "\n",
        "tweets_data = tf.keras.utils.pad_sequences(tweet, maxlen=input_size ,dtype=\"object\", padding=\"post\", truncating=\"post\")\n",
        "tweets_data = tweets_data.astype(np.float32)\n",
        "\n",
        "\n"
      ]
    }
  ],
  "metadata": {
    "colab": {
      "name": "NLP_timeseries",
      "provenance": []
    },
    "kernelspec": {
      "display_name": "Python 3.9.12 64-bit",
      "language": "python",
      "name": "python3"
    },
    "language_info": {
      "name": "python",
      "version": "3.9.12"
    },
    "vscode": {
      "interpreter": {
        "hash": "aee8b7b246df8f9039afb4144a1f6fd8d2ca17a180786b69acc140d282b71a49"
      }
    }
  },
  "nbformat": 4,
  "nbformat_minor": 0
}
